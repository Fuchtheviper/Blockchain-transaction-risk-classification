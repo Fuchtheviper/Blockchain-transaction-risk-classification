{
 "cells": [
  {
   "cell_type": "markdown",
   "metadata": {},
   "source": [
    "## Import library\n"
   ]
  },
  {
   "cell_type": "code",
   "execution_count": 91,
   "metadata": {},
   "outputs": [],
   "source": [
    "import pandas as pd\n",
    "import numpy as np\n",
    "import matplotlib.pyplot as plt\n",
    "import seaborn as sns\n",
    "from sklearn.neighbors import KNeighborsClassifier\n",
    "from sklearn.preprocessing import MinMaxScaler\n",
    "from sklearn.metrics import accuracy_score, confusion_matrix, precision_score, recall_score, f1_score, classification_report\n",
    "from imblearn.combine import SMOTETomek\n",
    "from sklearn.model_selection import GridSearchCV, RandomizedSearchCV\n",
    "from sklearn.tree import DecisionTreeClassifier\n",
    "from sklearn.ensemble import RandomForestClassifier\n",
    "from sklearn.naive_bayes import GaussianNB\n",
    "from sklearn.linear_model import LogisticRegression\n",
    "from sklearn.model_selection import StratifiedKFold\n",
    "from scipy.stats import truncnorm\n",
    "\n",
    "from datetime import datetime"
   ]
  },
  {
   "cell_type": "markdown",
   "metadata": {},
   "source": [
    "## Data Exploration\n"
   ]
  },
  {
   "cell_type": "code",
   "execution_count": 30,
   "metadata": {},
   "outputs": [],
   "source": [
    "# Import data\n",
    "df = pd.read_csv(\"metaverse_transactions_dataset.csv\")"
   ]
  },
  {
   "cell_type": "code",
   "execution_count": 31,
   "metadata": {},
   "outputs": [
    {
     "data": {
      "text/html": [
       "<div>\n",
       "<style scoped>\n",
       "    .dataframe tbody tr th:only-of-type {\n",
       "        vertical-align: middle;\n",
       "    }\n",
       "\n",
       "    .dataframe tbody tr th {\n",
       "        vertical-align: top;\n",
       "    }\n",
       "\n",
       "    .dataframe thead th {\n",
       "        text-align: right;\n",
       "    }\n",
       "</style>\n",
       "<table border=\"1\" class=\"dataframe\">\n",
       "  <thead>\n",
       "    <tr style=\"text-align: right;\">\n",
       "      <th></th>\n",
       "      <th>timestamp</th>\n",
       "      <th>hour_of_day</th>\n",
       "      <th>sending_address</th>\n",
       "      <th>receiving_address</th>\n",
       "      <th>amount</th>\n",
       "      <th>transaction_type</th>\n",
       "      <th>location_region</th>\n",
       "      <th>ip_prefix</th>\n",
       "      <th>login_frequency</th>\n",
       "      <th>session_duration</th>\n",
       "      <th>purchase_pattern</th>\n",
       "      <th>age_group</th>\n",
       "      <th>risk_score</th>\n",
       "      <th>anomaly</th>\n",
       "    </tr>\n",
       "  </thead>\n",
       "  <tbody>\n",
       "    <tr>\n",
       "      <th>0</th>\n",
       "      <td>2022-04-11 12:47:27</td>\n",
       "      <td>12</td>\n",
       "      <td>0x9d32d0bf2c00f41ce7ca01b66e174cc4dcb0c1da</td>\n",
       "      <td>0x39f82e1c09bc6d7baccc1e79e5621ff812f50572</td>\n",
       "      <td>796.949206</td>\n",
       "      <td>transfer</td>\n",
       "      <td>Europe</td>\n",
       "      <td>192.000</td>\n",
       "      <td>3</td>\n",
       "      <td>48</td>\n",
       "      <td>focused</td>\n",
       "      <td>established</td>\n",
       "      <td>18.75</td>\n",
       "      <td>low_risk</td>\n",
       "    </tr>\n",
       "    <tr>\n",
       "      <th>1</th>\n",
       "      <td>2022-06-14 19:12:46</td>\n",
       "      <td>19</td>\n",
       "      <td>0xd6e251c23cbf52dbd472f079147873e655d8096f</td>\n",
       "      <td>0x51e8fbe24f124e0e30a614e14401b9bbfed5384c</td>\n",
       "      <td>0.010000</td>\n",
       "      <td>purchase</td>\n",
       "      <td>South America</td>\n",
       "      <td>172.000</td>\n",
       "      <td>5</td>\n",
       "      <td>61</td>\n",
       "      <td>focused</td>\n",
       "      <td>established</td>\n",
       "      <td>25.00</td>\n",
       "      <td>low_risk</td>\n",
       "    </tr>\n",
       "    <tr>\n",
       "      <th>2</th>\n",
       "      <td>2022-01-18 16:26:59</td>\n",
       "      <td>16</td>\n",
       "      <td>0x2e0925b922fed01f6a85d213ae2718f54b8ca305</td>\n",
       "      <td>0x52c7911879f783d590af45bda0c0ef2b8536706f</td>\n",
       "      <td>778.197390</td>\n",
       "      <td>purchase</td>\n",
       "      <td>Asia</td>\n",
       "      <td>192.168</td>\n",
       "      <td>3</td>\n",
       "      <td>74</td>\n",
       "      <td>focused</td>\n",
       "      <td>established</td>\n",
       "      <td>31.25</td>\n",
       "      <td>low_risk</td>\n",
       "    </tr>\n",
       "    <tr>\n",
       "      <th>3</th>\n",
       "      <td>2022-06-15 09:20:04</td>\n",
       "      <td>9</td>\n",
       "      <td>0x93efefc25fcaf31d7695f28018d7a11ece55457f</td>\n",
       "      <td>0x8ac3b7bd531b3a833032f07d4e47c7af6ea7bace</td>\n",
       "      <td>300.838358</td>\n",
       "      <td>transfer</td>\n",
       "      <td>South America</td>\n",
       "      <td>172.000</td>\n",
       "      <td>8</td>\n",
       "      <td>111</td>\n",
       "      <td>high_value</td>\n",
       "      <td>veteran</td>\n",
       "      <td>36.75</td>\n",
       "      <td>low_risk</td>\n",
       "    </tr>\n",
       "    <tr>\n",
       "      <th>4</th>\n",
       "      <td>2022-02-18 14:35:30</td>\n",
       "      <td>14</td>\n",
       "      <td>0xad3b8de45d63f5cce28aef9a82cf30c397c6ceb9</td>\n",
       "      <td>0x6fdc047c2391615b3facd79b4588c7e9106e49f2</td>\n",
       "      <td>775.569344</td>\n",
       "      <td>sale</td>\n",
       "      <td>Africa</td>\n",
       "      <td>172.160</td>\n",
       "      <td>6</td>\n",
       "      <td>100</td>\n",
       "      <td>high_value</td>\n",
       "      <td>veteran</td>\n",
       "      <td>62.50</td>\n",
       "      <td>moderate_risk</td>\n",
       "    </tr>\n",
       "  </tbody>\n",
       "</table>\n",
       "</div>"
      ],
      "text/plain": [
       "             timestamp  hour_of_day  \\\n",
       "0  2022-04-11 12:47:27           12   \n",
       "1  2022-06-14 19:12:46           19   \n",
       "2  2022-01-18 16:26:59           16   \n",
       "3  2022-06-15 09:20:04            9   \n",
       "4  2022-02-18 14:35:30           14   \n",
       "\n",
       "                              sending_address  \\\n",
       "0  0x9d32d0bf2c00f41ce7ca01b66e174cc4dcb0c1da   \n",
       "1  0xd6e251c23cbf52dbd472f079147873e655d8096f   \n",
       "2  0x2e0925b922fed01f6a85d213ae2718f54b8ca305   \n",
       "3  0x93efefc25fcaf31d7695f28018d7a11ece55457f   \n",
       "4  0xad3b8de45d63f5cce28aef9a82cf30c397c6ceb9   \n",
       "\n",
       "                            receiving_address      amount transaction_type  \\\n",
       "0  0x39f82e1c09bc6d7baccc1e79e5621ff812f50572  796.949206         transfer   \n",
       "1  0x51e8fbe24f124e0e30a614e14401b9bbfed5384c    0.010000         purchase   \n",
       "2  0x52c7911879f783d590af45bda0c0ef2b8536706f  778.197390         purchase   \n",
       "3  0x8ac3b7bd531b3a833032f07d4e47c7af6ea7bace  300.838358         transfer   \n",
       "4  0x6fdc047c2391615b3facd79b4588c7e9106e49f2  775.569344             sale   \n",
       "\n",
       "  location_region  ip_prefix  login_frequency  session_duration  \\\n",
       "0          Europe    192.000                3                48   \n",
       "1   South America    172.000                5                61   \n",
       "2            Asia    192.168                3                74   \n",
       "3   South America    172.000                8               111   \n",
       "4          Africa    172.160                6               100   \n",
       "\n",
       "  purchase_pattern    age_group  risk_score        anomaly  \n",
       "0          focused  established       18.75       low_risk  \n",
       "1          focused  established       25.00       low_risk  \n",
       "2          focused  established       31.25       low_risk  \n",
       "3       high_value      veteran       36.75       low_risk  \n",
       "4       high_value      veteran       62.50  moderate_risk  "
      ]
     },
     "execution_count": 31,
     "metadata": {},
     "output_type": "execute_result"
    }
   ],
   "source": [
    "df.head()"
   ]
  },
  {
   "cell_type": "code",
   "execution_count": 32,
   "metadata": {},
   "outputs": [
    {
     "name": "stdout",
     "output_type": "stream",
     "text": [
      "<class 'pandas.core.frame.DataFrame'>\n",
      "RangeIndex: 78600 entries, 0 to 78599\n",
      "Data columns (total 14 columns):\n",
      " #   Column             Non-Null Count  Dtype  \n",
      "---  ------             --------------  -----  \n",
      " 0   timestamp          78600 non-null  object \n",
      " 1   hour_of_day        78600 non-null  int64  \n",
      " 2   sending_address    78600 non-null  object \n",
      " 3   receiving_address  78600 non-null  object \n",
      " 4   amount             78600 non-null  float64\n",
      " 5   transaction_type   78600 non-null  object \n",
      " 6   location_region    78600 non-null  object \n",
      " 7   ip_prefix          78600 non-null  float64\n",
      " 8   login_frequency    78600 non-null  int64  \n",
      " 9   session_duration   78600 non-null  int64  \n",
      " 10  purchase_pattern   78600 non-null  object \n",
      " 11  age_group          78600 non-null  object \n",
      " 12  risk_score         78600 non-null  float64\n",
      " 13  anomaly            78600 non-null  object \n",
      "dtypes: float64(3), int64(3), object(8)\n",
      "memory usage: 8.4+ MB\n"
     ]
    }
   ],
   "source": [
    "# Check data information\n",
    "df.info()"
   ]
  },
  {
   "cell_type": "code",
   "execution_count": 33,
   "metadata": {},
   "outputs": [
    {
     "data": {
      "text/html": [
       "<div>\n",
       "<style scoped>\n",
       "    .dataframe tbody tr th:only-of-type {\n",
       "        vertical-align: middle;\n",
       "    }\n",
       "\n",
       "    .dataframe tbody tr th {\n",
       "        vertical-align: top;\n",
       "    }\n",
       "\n",
       "    .dataframe thead th {\n",
       "        text-align: right;\n",
       "    }\n",
       "</style>\n",
       "<table border=\"1\" class=\"dataframe\">\n",
       "  <thead>\n",
       "    <tr style=\"text-align: right;\">\n",
       "      <th></th>\n",
       "      <th>hour_of_day</th>\n",
       "      <th>amount</th>\n",
       "      <th>ip_prefix</th>\n",
       "      <th>login_frequency</th>\n",
       "      <th>session_duration</th>\n",
       "      <th>risk_score</th>\n",
       "    </tr>\n",
       "  </thead>\n",
       "  <tbody>\n",
       "    <tr>\n",
       "      <th>count</th>\n",
       "      <td>78600.000000</td>\n",
       "      <td>78600.000000</td>\n",
       "      <td>78600.000000</td>\n",
       "      <td>78600.000000</td>\n",
       "      <td>78600.000000</td>\n",
       "      <td>78600.000000</td>\n",
       "    </tr>\n",
       "    <tr>\n",
       "      <th>mean</th>\n",
       "      <td>11.532634</td>\n",
       "      <td>502.574903</td>\n",
       "      <td>147.644430</td>\n",
       "      <td>4.178702</td>\n",
       "      <td>69.684606</td>\n",
       "      <td>44.956722</td>\n",
       "    </tr>\n",
       "    <tr>\n",
       "      <th>std</th>\n",
       "      <td>6.935897</td>\n",
       "      <td>245.898146</td>\n",
       "      <td>69.388143</td>\n",
       "      <td>2.366038</td>\n",
       "      <td>40.524476</td>\n",
       "      <td>21.775365</td>\n",
       "    </tr>\n",
       "    <tr>\n",
       "      <th>min</th>\n",
       "      <td>0.000000</td>\n",
       "      <td>0.010000</td>\n",
       "      <td>10.000000</td>\n",
       "      <td>1.000000</td>\n",
       "      <td>20.000000</td>\n",
       "      <td>15.000000</td>\n",
       "    </tr>\n",
       "    <tr>\n",
       "      <th>25%</th>\n",
       "      <td>6.000000</td>\n",
       "      <td>331.319966</td>\n",
       "      <td>172.000000</td>\n",
       "      <td>2.000000</td>\n",
       "      <td>35.000000</td>\n",
       "      <td>26.250000</td>\n",
       "    </tr>\n",
       "    <tr>\n",
       "      <th>50%</th>\n",
       "      <td>12.000000</td>\n",
       "      <td>500.029500</td>\n",
       "      <td>172.160000</td>\n",
       "      <td>4.000000</td>\n",
       "      <td>60.000000</td>\n",
       "      <td>40.000000</td>\n",
       "    </tr>\n",
       "    <tr>\n",
       "      <th>75%</th>\n",
       "      <td>18.000000</td>\n",
       "      <td>669.528311</td>\n",
       "      <td>192.000000</td>\n",
       "      <td>6.000000</td>\n",
       "      <td>100.000000</td>\n",
       "      <td>52.500000</td>\n",
       "    </tr>\n",
       "    <tr>\n",
       "      <th>max</th>\n",
       "      <td>23.000000</td>\n",
       "      <td>1557.150905</td>\n",
       "      <td>192.168000</td>\n",
       "      <td>8.000000</td>\n",
       "      <td>159.000000</td>\n",
       "      <td>100.000000</td>\n",
       "    </tr>\n",
       "  </tbody>\n",
       "</table>\n",
       "</div>"
      ],
      "text/plain": [
       "        hour_of_day        amount     ip_prefix  login_frequency  \\\n",
       "count  78600.000000  78600.000000  78600.000000     78600.000000   \n",
       "mean      11.532634    502.574903    147.644430         4.178702   \n",
       "std        6.935897    245.898146     69.388143         2.366038   \n",
       "min        0.000000      0.010000     10.000000         1.000000   \n",
       "25%        6.000000    331.319966    172.000000         2.000000   \n",
       "50%       12.000000    500.029500    172.160000         4.000000   \n",
       "75%       18.000000    669.528311    192.000000         6.000000   \n",
       "max       23.000000   1557.150905    192.168000         8.000000   \n",
       "\n",
       "       session_duration    risk_score  \n",
       "count      78600.000000  78600.000000  \n",
       "mean          69.684606     44.956722  \n",
       "std           40.524476     21.775365  \n",
       "min           20.000000     15.000000  \n",
       "25%           35.000000     26.250000  \n",
       "50%           60.000000     40.000000  \n",
       "75%          100.000000     52.500000  \n",
       "max          159.000000    100.000000  "
      ]
     },
     "execution_count": 33,
     "metadata": {},
     "output_type": "execute_result"
    }
   ],
   "source": [
    "# Check data description\n",
    "df.describe()"
   ]
  },
  {
   "cell_type": "code",
   "execution_count": 34,
   "metadata": {},
   "outputs": [
    {
     "data": {
      "text/plain": [
       "Index(['timestamp', 'hour_of_day', 'sending_address', 'receiving_address',\n",
       "       'amount', 'transaction_type', 'location_region', 'ip_prefix',\n",
       "       'login_frequency', 'session_duration', 'purchase_pattern', 'age_group',\n",
       "       'risk_score', 'anomaly'],\n",
       "      dtype='object')"
      ]
     },
     "execution_count": 34,
     "metadata": {},
     "output_type": "execute_result"
    }
   ],
   "source": [
    "df.columns"
   ]
  },
  {
   "cell_type": "code",
   "execution_count": 35,
   "metadata": {},
   "outputs": [
    {
     "data": {
      "text/plain": [
       "timestamp            0\n",
       "hour_of_day          0\n",
       "sending_address      0\n",
       "receiving_address    0\n",
       "amount               0\n",
       "transaction_type     0\n",
       "location_region      0\n",
       "ip_prefix            0\n",
       "login_frequency      0\n",
       "session_duration     0\n",
       "purchase_pattern     0\n",
       "age_group            0\n",
       "risk_score           0\n",
       "anomaly              0\n",
       "dtype: int64"
      ]
     },
     "execution_count": 35,
     "metadata": {},
     "output_type": "execute_result"
    }
   ],
   "source": [
    "# Check missing value\n",
    "df.isna().sum()"
   ]
  },
  {
   "cell_type": "markdown",
   "metadata": {},
   "source": [
    "## Data Preparation\n"
   ]
  },
  {
   "cell_type": "code",
   "execution_count": 36,
   "metadata": {},
   "outputs": [
    {
     "data": {
      "text/html": [
       "<div>\n",
       "<style scoped>\n",
       "    .dataframe tbody tr th:only-of-type {\n",
       "        vertical-align: middle;\n",
       "    }\n",
       "\n",
       "    .dataframe tbody tr th {\n",
       "        vertical-align: top;\n",
       "    }\n",
       "\n",
       "    .dataframe thead th {\n",
       "        text-align: right;\n",
       "    }\n",
       "</style>\n",
       "<table border=\"1\" class=\"dataframe\">\n",
       "  <thead>\n",
       "    <tr style=\"text-align: right;\">\n",
       "      <th></th>\n",
       "      <th>timestamp</th>\n",
       "      <th>hour_of_day</th>\n",
       "      <th>amount</th>\n",
       "      <th>transaction_type</th>\n",
       "      <th>location_region</th>\n",
       "      <th>login_frequency</th>\n",
       "      <th>session_duration</th>\n",
       "      <th>purchase_pattern</th>\n",
       "      <th>age_group</th>\n",
       "      <th>risk_score</th>\n",
       "      <th>anomaly</th>\n",
       "    </tr>\n",
       "  </thead>\n",
       "  <tbody>\n",
       "    <tr>\n",
       "      <th>0</th>\n",
       "      <td>2022-04-11 12:47:27</td>\n",
       "      <td>12</td>\n",
       "      <td>796.949206</td>\n",
       "      <td>transfer</td>\n",
       "      <td>Europe</td>\n",
       "      <td>3</td>\n",
       "      <td>48</td>\n",
       "      <td>focused</td>\n",
       "      <td>established</td>\n",
       "      <td>18.75</td>\n",
       "      <td>low_risk</td>\n",
       "    </tr>\n",
       "    <tr>\n",
       "      <th>1</th>\n",
       "      <td>2022-06-14 19:12:46</td>\n",
       "      <td>19</td>\n",
       "      <td>0.010000</td>\n",
       "      <td>purchase</td>\n",
       "      <td>South America</td>\n",
       "      <td>5</td>\n",
       "      <td>61</td>\n",
       "      <td>focused</td>\n",
       "      <td>established</td>\n",
       "      <td>25.00</td>\n",
       "      <td>low_risk</td>\n",
       "    </tr>\n",
       "    <tr>\n",
       "      <th>2</th>\n",
       "      <td>2022-01-18 16:26:59</td>\n",
       "      <td>16</td>\n",
       "      <td>778.197390</td>\n",
       "      <td>purchase</td>\n",
       "      <td>Asia</td>\n",
       "      <td>3</td>\n",
       "      <td>74</td>\n",
       "      <td>focused</td>\n",
       "      <td>established</td>\n",
       "      <td>31.25</td>\n",
       "      <td>low_risk</td>\n",
       "    </tr>\n",
       "    <tr>\n",
       "      <th>3</th>\n",
       "      <td>2022-06-15 09:20:04</td>\n",
       "      <td>9</td>\n",
       "      <td>300.838358</td>\n",
       "      <td>transfer</td>\n",
       "      <td>South America</td>\n",
       "      <td>8</td>\n",
       "      <td>111</td>\n",
       "      <td>high_value</td>\n",
       "      <td>veteran</td>\n",
       "      <td>36.75</td>\n",
       "      <td>low_risk</td>\n",
       "    </tr>\n",
       "    <tr>\n",
       "      <th>4</th>\n",
       "      <td>2022-02-18 14:35:30</td>\n",
       "      <td>14</td>\n",
       "      <td>775.569344</td>\n",
       "      <td>sale</td>\n",
       "      <td>Africa</td>\n",
       "      <td>6</td>\n",
       "      <td>100</td>\n",
       "      <td>high_value</td>\n",
       "      <td>veteran</td>\n",
       "      <td>62.50</td>\n",
       "      <td>moderate_risk</td>\n",
       "    </tr>\n",
       "  </tbody>\n",
       "</table>\n",
       "</div>"
      ],
      "text/plain": [
       "             timestamp  hour_of_day      amount transaction_type  \\\n",
       "0  2022-04-11 12:47:27           12  796.949206         transfer   \n",
       "1  2022-06-14 19:12:46           19    0.010000         purchase   \n",
       "2  2022-01-18 16:26:59           16  778.197390         purchase   \n",
       "3  2022-06-15 09:20:04            9  300.838358         transfer   \n",
       "4  2022-02-18 14:35:30           14  775.569344             sale   \n",
       "\n",
       "  location_region  login_frequency  session_duration purchase_pattern  \\\n",
       "0          Europe                3                48          focused   \n",
       "1   South America                5                61          focused   \n",
       "2            Asia                3                74          focused   \n",
       "3   South America                8               111       high_value   \n",
       "4          Africa                6               100       high_value   \n",
       "\n",
       "     age_group  risk_score        anomaly  \n",
       "0  established       18.75       low_risk  \n",
       "1  established       25.00       low_risk  \n",
       "2  established       31.25       low_risk  \n",
       "3      veteran       36.75       low_risk  \n",
       "4      veteran       62.50  moderate_risk  "
      ]
     },
     "execution_count": 36,
     "metadata": {},
     "output_type": "execute_result"
    }
   ],
   "source": [
    "# Drop unnecessary data\n",
    "df=df.drop(['sending_address', 'receiving_address','ip_prefix'],axis=1)\n",
    "df.head()"
   ]
  },
  {
   "cell_type": "code",
   "execution_count": 37,
   "metadata": {},
   "outputs": [
    {
     "data": {
      "text/html": [
       "<div>\n",
       "<style scoped>\n",
       "    .dataframe tbody tr th:only-of-type {\n",
       "        vertical-align: middle;\n",
       "    }\n",
       "\n",
       "    .dataframe tbody tr th {\n",
       "        vertical-align: top;\n",
       "    }\n",
       "\n",
       "    .dataframe thead th {\n",
       "        text-align: right;\n",
       "    }\n",
       "</style>\n",
       "<table border=\"1\" class=\"dataframe\">\n",
       "  <thead>\n",
       "    <tr style=\"text-align: right;\">\n",
       "      <th></th>\n",
       "      <th>timestamp</th>\n",
       "      <th>hour_of_day</th>\n",
       "      <th>amount</th>\n",
       "      <th>transaction_type</th>\n",
       "      <th>location_region</th>\n",
       "      <th>login_frequency</th>\n",
       "      <th>session_duration</th>\n",
       "      <th>purchase_pattern</th>\n",
       "      <th>age_group</th>\n",
       "      <th>risk_score</th>\n",
       "      <th>anomaly</th>\n",
       "    </tr>\n",
       "  </thead>\n",
       "  <tbody>\n",
       "    <tr>\n",
       "      <th>0</th>\n",
       "      <td>2022-04-11 12:47:27</td>\n",
       "      <td>12</td>\n",
       "      <td>796.949206</td>\n",
       "      <td>transfer</td>\n",
       "      <td>Europe</td>\n",
       "      <td>3</td>\n",
       "      <td>48</td>\n",
       "      <td>focused</td>\n",
       "      <td>established</td>\n",
       "      <td>18.75</td>\n",
       "      <td>low_risk</td>\n",
       "    </tr>\n",
       "    <tr>\n",
       "      <th>1</th>\n",
       "      <td>2022-06-14 19:12:46</td>\n",
       "      <td>19</td>\n",
       "      <td>0.010000</td>\n",
       "      <td>purchase</td>\n",
       "      <td>South America</td>\n",
       "      <td>5</td>\n",
       "      <td>61</td>\n",
       "      <td>focused</td>\n",
       "      <td>established</td>\n",
       "      <td>25.00</td>\n",
       "      <td>low_risk</td>\n",
       "    </tr>\n",
       "    <tr>\n",
       "      <th>2</th>\n",
       "      <td>2022-01-18 16:26:59</td>\n",
       "      <td>16</td>\n",
       "      <td>778.197390</td>\n",
       "      <td>purchase</td>\n",
       "      <td>Asia</td>\n",
       "      <td>3</td>\n",
       "      <td>74</td>\n",
       "      <td>focused</td>\n",
       "      <td>established</td>\n",
       "      <td>31.25</td>\n",
       "      <td>low_risk</td>\n",
       "    </tr>\n",
       "    <tr>\n",
       "      <th>3</th>\n",
       "      <td>2022-06-15 09:20:04</td>\n",
       "      <td>9</td>\n",
       "      <td>300.838358</td>\n",
       "      <td>transfer</td>\n",
       "      <td>South America</td>\n",
       "      <td>8</td>\n",
       "      <td>111</td>\n",
       "      <td>high_value</td>\n",
       "      <td>veteran</td>\n",
       "      <td>36.75</td>\n",
       "      <td>low_risk</td>\n",
       "    </tr>\n",
       "    <tr>\n",
       "      <th>4</th>\n",
       "      <td>2022-02-18 14:35:30</td>\n",
       "      <td>14</td>\n",
       "      <td>775.569344</td>\n",
       "      <td>sale</td>\n",
       "      <td>Africa</td>\n",
       "      <td>6</td>\n",
       "      <td>100</td>\n",
       "      <td>high_value</td>\n",
       "      <td>veteran</td>\n",
       "      <td>62.50</td>\n",
       "      <td>moderate_risk</td>\n",
       "    </tr>\n",
       "  </tbody>\n",
       "</table>\n",
       "</div>"
      ],
      "text/plain": [
       "            timestamp  hour_of_day      amount transaction_type  \\\n",
       "0 2022-04-11 12:47:27           12  796.949206         transfer   \n",
       "1 2022-06-14 19:12:46           19    0.010000         purchase   \n",
       "2 2022-01-18 16:26:59           16  778.197390         purchase   \n",
       "3 2022-06-15 09:20:04            9  300.838358         transfer   \n",
       "4 2022-02-18 14:35:30           14  775.569344             sale   \n",
       "\n",
       "  location_region  login_frequency  session_duration purchase_pattern  \\\n",
       "0          Europe                3                48          focused   \n",
       "1   South America                5                61          focused   \n",
       "2            Asia                3                74          focused   \n",
       "3   South America                8               111       high_value   \n",
       "4          Africa                6               100       high_value   \n",
       "\n",
       "     age_group  risk_score        anomaly  \n",
       "0  established       18.75       low_risk  \n",
       "1  established       25.00       low_risk  \n",
       "2  established       31.25       low_risk  \n",
       "3      veteran       36.75       low_risk  \n",
       "4      veteran       62.50  moderate_risk  "
      ]
     },
     "execution_count": 37,
     "metadata": {},
     "output_type": "execute_result"
    }
   ],
   "source": [
    "# Change object to timestamp\n",
    "df['timestamp']=pd.to_datetime(df['timestamp'])\n",
    "df.head()"
   ]
  },
  {
   "cell_type": "code",
   "execution_count": 38,
   "metadata": {},
   "outputs": [
    {
     "data": {
      "text/html": [
       "<div>\n",
       "<style scoped>\n",
       "    .dataframe tbody tr th:only-of-type {\n",
       "        vertical-align: middle;\n",
       "    }\n",
       "\n",
       "    .dataframe tbody tr th {\n",
       "        vertical-align: top;\n",
       "    }\n",
       "\n",
       "    .dataframe thead th {\n",
       "        text-align: right;\n",
       "    }\n",
       "</style>\n",
       "<table border=\"1\" class=\"dataframe\">\n",
       "  <thead>\n",
       "    <tr style=\"text-align: right;\">\n",
       "      <th></th>\n",
       "      <th>timestamp</th>\n",
       "      <th>hour_of_day</th>\n",
       "      <th>amount</th>\n",
       "      <th>transaction_type</th>\n",
       "      <th>location_region</th>\n",
       "      <th>login_frequency</th>\n",
       "      <th>session_duration</th>\n",
       "      <th>purchase_pattern</th>\n",
       "      <th>age_group</th>\n",
       "      <th>risk_score</th>\n",
       "      <th>anomaly</th>\n",
       "    </tr>\n",
       "  </thead>\n",
       "  <tbody>\n",
       "    <tr>\n",
       "      <th>0</th>\n",
       "      <td>2022-01-01 00:00:45</td>\n",
       "      <td>0</td>\n",
       "      <td>592.024530</td>\n",
       "      <td>transfer</td>\n",
       "      <td>South America</td>\n",
       "      <td>6</td>\n",
       "      <td>84</td>\n",
       "      <td>high_value</td>\n",
       "      <td>veteran</td>\n",
       "      <td>49.6125</td>\n",
       "      <td>low_risk</td>\n",
       "    </tr>\n",
       "    <tr>\n",
       "      <th>1</th>\n",
       "      <td>2022-01-01 00:12:24</td>\n",
       "      <td>0</td>\n",
       "      <td>755.500717</td>\n",
       "      <td>transfer</td>\n",
       "      <td>North America</td>\n",
       "      <td>3</td>\n",
       "      <td>70</td>\n",
       "      <td>focused</td>\n",
       "      <td>established</td>\n",
       "      <td>25.3125</td>\n",
       "      <td>low_risk</td>\n",
       "    </tr>\n",
       "    <tr>\n",
       "      <th>2</th>\n",
       "      <td>2022-01-01 00:14:54</td>\n",
       "      <td>0</td>\n",
       "      <td>247.716361</td>\n",
       "      <td>transfer</td>\n",
       "      <td>Asia</td>\n",
       "      <td>5</td>\n",
       "      <td>54</td>\n",
       "      <td>focused</td>\n",
       "      <td>established</td>\n",
       "      <td>20.2500</td>\n",
       "      <td>low_risk</td>\n",
       "    </tr>\n",
       "    <tr>\n",
       "      <th>3</th>\n",
       "      <td>2022-01-01 00:27:12</td>\n",
       "      <td>0</td>\n",
       "      <td>422.789709</td>\n",
       "      <td>purchase</td>\n",
       "      <td>North America</td>\n",
       "      <td>4</td>\n",
       "      <td>62</td>\n",
       "      <td>focused</td>\n",
       "      <td>established</td>\n",
       "      <td>35.4375</td>\n",
       "      <td>low_risk</td>\n",
       "    </tr>\n",
       "    <tr>\n",
       "      <th>4</th>\n",
       "      <td>2022-01-01 00:36:27</td>\n",
       "      <td>0</td>\n",
       "      <td>353.949174</td>\n",
       "      <td>sale</td>\n",
       "      <td>South America</td>\n",
       "      <td>7</td>\n",
       "      <td>94</td>\n",
       "      <td>high_value</td>\n",
       "      <td>veteran</td>\n",
       "      <td>70.8750</td>\n",
       "      <td>moderate_risk</td>\n",
       "    </tr>\n",
       "  </tbody>\n",
       "</table>\n",
       "</div>"
      ],
      "text/plain": [
       "            timestamp  hour_of_day      amount transaction_type  \\\n",
       "0 2022-01-01 00:00:45            0  592.024530         transfer   \n",
       "1 2022-01-01 00:12:24            0  755.500717         transfer   \n",
       "2 2022-01-01 00:14:54            0  247.716361         transfer   \n",
       "3 2022-01-01 00:27:12            0  422.789709         purchase   \n",
       "4 2022-01-01 00:36:27            0  353.949174             sale   \n",
       "\n",
       "  location_region  login_frequency  session_duration purchase_pattern  \\\n",
       "0   South America                6                84       high_value   \n",
       "1   North America                3                70          focused   \n",
       "2            Asia                5                54          focused   \n",
       "3   North America                4                62          focused   \n",
       "4   South America                7                94       high_value   \n",
       "\n",
       "     age_group  risk_score        anomaly  \n",
       "0      veteran     49.6125       low_risk  \n",
       "1  established     25.3125       low_risk  \n",
       "2  established     20.2500       low_risk  \n",
       "3  established     35.4375       low_risk  \n",
       "4      veteran     70.8750  moderate_risk  "
      ]
     },
     "execution_count": 38,
     "metadata": {},
     "output_type": "execute_result"
    }
   ],
   "source": [
    "# Sort timestamp and reset index\n",
    "df=df.sort_values('timestamp')\n",
    "df=df.reset_index()\n",
    "df=df.drop('index',axis=1)\n",
    "df.head()"
   ]
  },
  {
   "cell_type": "code",
   "execution_count": 39,
   "metadata": {},
   "outputs": [
    {
     "data": {
      "text/plain": [
       "timestamp           0\n",
       "hour_of_day         0\n",
       "amount              0\n",
       "transaction_type    0\n",
       "location_region     0\n",
       "login_frequency     0\n",
       "session_duration    0\n",
       "purchase_pattern    0\n",
       "age_group           0\n",
       "risk_score          0\n",
       "anomaly             0\n",
       "dtype: int64"
      ]
     },
     "execution_count": 39,
     "metadata": {},
     "output_type": "execute_result"
    }
   ],
   "source": [
    "df.isna().sum()"
   ]
  },
  {
   "cell_type": "code",
   "execution_count": 40,
   "metadata": {},
   "outputs": [
    {
     "data": {
      "text/html": [
       "<div>\n",
       "<style scoped>\n",
       "    .dataframe tbody tr th:only-of-type {\n",
       "        vertical-align: middle;\n",
       "    }\n",
       "\n",
       "    .dataframe tbody tr th {\n",
       "        vertical-align: top;\n",
       "    }\n",
       "\n",
       "    .dataframe thead th {\n",
       "        text-align: right;\n",
       "    }\n",
       "</style>\n",
       "<table border=\"1\" class=\"dataframe\">\n",
       "  <thead>\n",
       "    <tr style=\"text-align: right;\">\n",
       "      <th></th>\n",
       "      <th>timestamp</th>\n",
       "      <th>hour_of_day</th>\n",
       "      <th>amount</th>\n",
       "      <th>login_frequency</th>\n",
       "      <th>session_duration</th>\n",
       "      <th>risk_score</th>\n",
       "    </tr>\n",
       "  </thead>\n",
       "  <tbody>\n",
       "    <tr>\n",
       "      <th>count</th>\n",
       "      <td>78600</td>\n",
       "      <td>78600.000000</td>\n",
       "      <td>78600.000000</td>\n",
       "      <td>78600.000000</td>\n",
       "      <td>78600.000000</td>\n",
       "      <td>78600.000000</td>\n",
       "    </tr>\n",
       "    <tr>\n",
       "      <th>mean</th>\n",
       "      <td>2022-07-02 15:42:18.166437888</td>\n",
       "      <td>11.532634</td>\n",
       "      <td>502.574903</td>\n",
       "      <td>4.178702</td>\n",
       "      <td>69.684606</td>\n",
       "      <td>44.956722</td>\n",
       "    </tr>\n",
       "    <tr>\n",
       "      <th>min</th>\n",
       "      <td>2022-01-01 00:00:45</td>\n",
       "      <td>0.000000</td>\n",
       "      <td>0.010000</td>\n",
       "      <td>1.000000</td>\n",
       "      <td>20.000000</td>\n",
       "      <td>15.000000</td>\n",
       "    </tr>\n",
       "    <tr>\n",
       "      <th>25%</th>\n",
       "      <td>2022-04-02 02:37:59.500000</td>\n",
       "      <td>6.000000</td>\n",
       "      <td>331.319966</td>\n",
       "      <td>2.000000</td>\n",
       "      <td>35.000000</td>\n",
       "      <td>26.250000</td>\n",
       "    </tr>\n",
       "    <tr>\n",
       "      <th>50%</th>\n",
       "      <td>2022-07-02 17:46:33</td>\n",
       "      <td>12.000000</td>\n",
       "      <td>500.029500</td>\n",
       "      <td>4.000000</td>\n",
       "      <td>60.000000</td>\n",
       "      <td>40.000000</td>\n",
       "    </tr>\n",
       "    <tr>\n",
       "      <th>75%</th>\n",
       "      <td>2022-10-02 09:00:14</td>\n",
       "      <td>18.000000</td>\n",
       "      <td>669.528311</td>\n",
       "      <td>6.000000</td>\n",
       "      <td>100.000000</td>\n",
       "      <td>52.500000</td>\n",
       "    </tr>\n",
       "    <tr>\n",
       "      <th>max</th>\n",
       "      <td>2022-12-31 23:47:40</td>\n",
       "      <td>23.000000</td>\n",
       "      <td>1557.150905</td>\n",
       "      <td>8.000000</td>\n",
       "      <td>159.000000</td>\n",
       "      <td>100.000000</td>\n",
       "    </tr>\n",
       "    <tr>\n",
       "      <th>std</th>\n",
       "      <td>NaN</td>\n",
       "      <td>6.935897</td>\n",
       "      <td>245.898146</td>\n",
       "      <td>2.366038</td>\n",
       "      <td>40.524476</td>\n",
       "      <td>21.775365</td>\n",
       "    </tr>\n",
       "  </tbody>\n",
       "</table>\n",
       "</div>"
      ],
      "text/plain": [
       "                           timestamp   hour_of_day        amount  \\\n",
       "count                          78600  78600.000000  78600.000000   \n",
       "mean   2022-07-02 15:42:18.166437888     11.532634    502.574903   \n",
       "min              2022-01-01 00:00:45      0.000000      0.010000   \n",
       "25%       2022-04-02 02:37:59.500000      6.000000    331.319966   \n",
       "50%              2022-07-02 17:46:33     12.000000    500.029500   \n",
       "75%              2022-10-02 09:00:14     18.000000    669.528311   \n",
       "max              2022-12-31 23:47:40     23.000000   1557.150905   \n",
       "std                              NaN      6.935897    245.898146   \n",
       "\n",
       "       login_frequency  session_duration    risk_score  \n",
       "count     78600.000000      78600.000000  78600.000000  \n",
       "mean          4.178702         69.684606     44.956722  \n",
       "min           1.000000         20.000000     15.000000  \n",
       "25%           2.000000         35.000000     26.250000  \n",
       "50%           4.000000         60.000000     40.000000  \n",
       "75%           6.000000        100.000000     52.500000  \n",
       "max           8.000000        159.000000    100.000000  \n",
       "std           2.366038         40.524476     21.775365  "
      ]
     },
     "execution_count": 40,
     "metadata": {},
     "output_type": "execute_result"
    }
   ],
   "source": [
    "df.describe()"
   ]
  },
  {
   "cell_type": "code",
   "execution_count": 41,
   "metadata": {},
   "outputs": [
    {
     "name": "stdout",
     "output_type": "stream",
     "text": [
      "<class 'pandas.core.frame.DataFrame'>\n",
      "RangeIndex: 78600 entries, 0 to 78599\n",
      "Data columns (total 11 columns):\n",
      " #   Column            Non-Null Count  Dtype         \n",
      "---  ------            --------------  -----         \n",
      " 0   timestamp         78600 non-null  datetime64[ns]\n",
      " 1   hour_of_day       78600 non-null  int64         \n",
      " 2   amount            78600 non-null  float64       \n",
      " 3   transaction_type  78600 non-null  object        \n",
      " 4   location_region   78600 non-null  object        \n",
      " 5   login_frequency   78600 non-null  int64         \n",
      " 6   session_duration  78600 non-null  int64         \n",
      " 7   purchase_pattern  78600 non-null  object        \n",
      " 8   age_group         78600 non-null  object        \n",
      " 9   risk_score        78600 non-null  float64       \n",
      " 10  anomaly           78600 non-null  object        \n",
      "dtypes: datetime64[ns](1), float64(2), int64(3), object(5)\n",
      "memory usage: 6.6+ MB\n"
     ]
    }
   ],
   "source": [
    "df.info()"
   ]
  },
  {
   "cell_type": "markdown",
   "metadata": {},
   "source": [
    "## Univariate analysis\n"
   ]
  },
  {
   "cell_type": "code",
   "execution_count": 42,
   "metadata": {},
   "outputs": [
    {
     "data": {
      "image/png": "[encoded data removed]",
      "text/plain": [
       "<Figure size 1500x1000 with 5 Axes>"
      ]
     },
     "metadata": {},
     "output_type": "display_data"
    }
   ],
   "source": [
    "# Plot numerical variables distribution\n",
    "numeric_columns = df.select_dtypes(include=['int64', 'float64']).columns\n",
    "\n",
    "n_cols = 3\n",
    "n_rows = (len(numeric_columns) + n_cols - 1) // n_cols\n",
    "\n",
    "plt.figure(figsize=(15, 5 * n_rows))\n",
    "for i, column in enumerate(numeric_columns):\n",
    "    plt.subplot(n_rows, n_cols, i + 1)  # Creates subplot for each histogram\n",
    "    sns.histplot(df[column], kde=False, bins=30, color='skyblue')\n",
    "    plt.title(f'Histogram of {column}')\n",
    "    plt.xlabel(column)\n",
    "    plt.ylabel('Frequency')\n"
   ]
  },
  {
   "cell_type": "code",
   "execution_count": 43,
   "metadata": {},
   "outputs": [
    {
     "data": {
      "image/png": "[encoded data removed]",
      "text/plain": [
       "<Figure size 1500x1000 with 5 Axes>"
      ]
     },
     "metadata": {},
     "output_type": "display_data"
    }
   ],
   "source": [
    "# Plot numerical variables distribution\n",
    "plt.figure(figsize=(15, 5 * n_rows))\n",
    "for i, column in enumerate(numeric_columns):\n",
    "    plt.subplot(n_rows, n_cols, i + 1)  # Creates subplot for each histogram\n",
    "    sns.boxplot(data= df, x=df[column], color='skyblue')\n",
    "    plt.title(f'Histogram of {column}')\n",
    "    plt.xlabel(column)\n",
    "    plt.ylabel('Frequency')"
   ]
  },
  {
   "cell_type": "code",
   "execution_count": 44,
   "metadata": {},
   "outputs": [
    {
     "data": {
      "image/png": "[encoded data removed]",
      "text/plain": [
       "<Figure size 2500x1000 with 5 Axes>"
      ]
     },
     "metadata": {},
     "output_type": "display_data"
    }
   ],
   "source": [
    "# plot catergorical variable distribution\n",
    "categorical_columns = df.select_dtypes(include=['object']).columns\n",
    "n_cols = 3\n",
    "n_rows = (len(categorical_columns) + n_cols - 1) // n_cols\n",
    "\n",
    "plt.figure(figsize=(25, 5 * n_rows))\n",
    "for i, column in enumerate(categorical_columns):\n",
    "    plt.subplot(n_rows, n_cols, i + 1)  # Creates subplot for each histogram\n",
    "    sns.histplot(df[column], kde=False, bins=30, color='skyblue')\n",
    "    plt.title(f'Histogram of {column}')\n",
    "    plt.xlabel(column)\n",
    "    plt.ylabel('Frequency')"
   ]
  },
  {
   "cell_type": "markdown",
   "metadata": {},
   "source": [
    "## Bivariate analysis\n"
   ]
  },
  {
   "cell_type": "markdown",
   "metadata": {},
   "source": [
    "### Plot distribution of risk score group by categorical feature\n"
   ]
  },
  {
   "cell_type": "code",
   "execution_count": 45,
   "metadata": {},
   "outputs": [
    {
     "data": {
      "text/plain": [
       "Index(['transaction_type', 'location_region', 'purchase_pattern', 'age_group',\n",
       "       'anomaly'],\n",
       "      dtype='object')"
      ]
     },
     "execution_count": 45,
     "metadata": {},
     "output_type": "execute_result"
    }
   ],
   "source": [
    "categorical_columns"
   ]
  },
  {
   "cell_type": "code",
   "execution_count": 46,
   "metadata": {},
   "outputs": [
    {
     "name": "stderr",
     "output_type": "stream",
     "text": [
      "C:\\Users\\fsukr\\AppData\\Local\\Temp\\ipykernel_19476\\356769766.py:5: FutureWarning: \n",
      "\n",
      "The `ci` parameter is deprecated. Use `errorbar=None` for the same effect.\n",
      "\n",
      "  sns.barplot(x='transaction_type', y='risk_score', data=df, ax=axes[0], ci=None)\n",
      "C:\\Users\\fsukr\\AppData\\Local\\Temp\\ipykernel_19476\\356769766.py:9: FutureWarning: \n",
      "\n",
      "The `ci` parameter is deprecated. Use `errorbar=None` for the same effect.\n",
      "\n",
      "  sns.barplot(x='location_region', y='risk_score', data=df, ax=axes[1], ci=None)\n",
      "C:\\Users\\fsukr\\AppData\\Local\\Temp\\ipykernel_19476\\356769766.py:13: FutureWarning: \n",
      "\n",
      "The `ci` parameter is deprecated. Use `errorbar=None` for the same effect.\n",
      "\n",
      "  sns.barplot(x='purchase_pattern', y='risk_score', data=df, ax=axes[2], ci=None)\n",
      "C:\\Users\\fsukr\\AppData\\Local\\Temp\\ipykernel_19476\\356769766.py:17: FutureWarning: \n",
      "\n",
      "The `ci` parameter is deprecated. Use `errorbar=None` for the same effect.\n",
      "\n",
      "  sns.barplot(x='age_group', y='risk_score', data=df, ax=axes[3], ci=None)\n",
      "C:\\Users\\fsukr\\AppData\\Local\\Temp\\ipykernel_19476\\356769766.py:21: FutureWarning: \n",
      "\n",
      "The `ci` parameter is deprecated. Use `errorbar=None` for the same effect.\n",
      "\n",
      "  sns.barplot(x='anomaly', y='risk_score', data=df, ax=axes[4], ci=None)\n"
     ]
    },
    {
     "data": {
      "image/png": "[encoded data removed]",
      "text/plain": [
       "<Figure size 1500x1500 with 6 Axes>"
      ]
     },
     "metadata": {},
     "output_type": "display_data"
    }
   ],
   "source": [
    "# Setting up the subplot grid\n",
    "fig, axes = plt.subplots(3, 2, figsize=(15, 15))  # Adjust the layout and size as needed\n",
    "axes = axes.ravel()\n",
    "\n",
    "# Plot each bar chart in a different subplot\n",
    "sns.barplot(x='transaction_type', y='risk_score', data=df, ax=axes[0], ci=None)\n",
    "axes[0].set_title('Transaction Type')\n",
    "axes[0].grid(True)\n",
    "\n",
    "sns.barplot(x='location_region', y='risk_score', data=df, ax=axes[1], ci=None)\n",
    "axes[1].set_title('Location Region')\n",
    "axes[1].grid(True)\n",
    "\n",
    "sns.barplot(x='purchase_pattern', y='risk_score', data=df, ax=axes[2], ci=None)\n",
    "axes[2].set_title('Purchase Pattern')\n",
    "axes[2].grid(True)\n",
    "\n",
    "sns.barplot(x='age_group', y='risk_score', data=df, ax=axes[3], ci=None)\n",
    "axes[3].set_title('Age Group')\n",
    "axes[3].grid(True)\n",
    "\n",
    "sns.barplot(x='anomaly', y='risk_score', data=df, ax=axes[4], ci=None)\n",
    "axes[4].set_title('Anomaly')\n",
    "axes[4].grid(True)\n",
    "\n",
    "# Adjust the layout to prevent overlap\n",
    "plt.tight_layout()\n",
    "\n",
    "# Show the plot\n",
    "plt.show()"
   ]
  },
  {
   "cell_type": "markdown",
   "metadata": {},
   "source": [
    "### Plot distribution of risk score group by numerical feature\n"
   ]
  },
  {
   "cell_type": "code",
   "execution_count": 47,
   "metadata": {},
   "outputs": [
    {
     "data": {
      "text/plain": [
       "Index(['hour_of_day', 'amount', 'login_frequency', 'session_duration',\n",
       "       'risk_score'],\n",
       "      dtype='object')"
      ]
     },
     "execution_count": 47,
     "metadata": {},
     "output_type": "execute_result"
    }
   ],
   "source": [
    "numeric_columns"
   ]
  },
  {
   "cell_type": "code",
   "execution_count": 48,
   "metadata": {},
   "outputs": [
    {
     "name": "stderr",
     "output_type": "stream",
     "text": [
      "C:\\Users\\fsukr\\AppData\\Local\\Temp\\ipykernel_19476\\3509604634.py:1: FutureWarning: \n",
      "\n",
      "The `ci` parameter is deprecated. Use `errorbar=None` for the same effect.\n",
      "\n",
      "  sns.barplot(x='hour_of_day', y='risk_score', data=df, ci=None)\n"
     ]
    },
    {
     "data": {
      "text/plain": [
       "<Axes: xlabel='hour_of_day', ylabel='risk_score'>"
      ]
     },
     "execution_count": 48,
     "metadata": {},
     "output_type": "execute_result"
    },
    {
     "data": {
      "image/png": "[encoded data removed]",
      "text/plain": [
       "<Figure size 640x480 with 1 Axes>"
      ]
     },
     "metadata": {},
     "output_type": "display_data"
    }
   ],
   "source": [
    "# Plot hour of day with risk score\n",
    "sns.barplot(x='hour_of_day', y='risk_score', data=df, ci=None)"
   ]
  },
  {
   "cell_type": "code",
   "execution_count": 49,
   "metadata": {},
   "outputs": [
    {
     "name": "stderr",
     "output_type": "stream",
     "text": [
      "C:\\Users\\fsukr\\AppData\\Local\\Temp\\ipykernel_19476\\623331788.py:1: FutureWarning: \n",
      "\n",
      "The `ci` parameter is deprecated. Use `errorbar=None` for the same effect.\n",
      "\n",
      "  sns.barplot(x='login_frequency', y='risk_score', data=df, ci=None)\n"
     ]
    },
    {
     "data": {
      "text/plain": [
       "<Axes: xlabel='login_frequency', ylabel='risk_score'>"
      ]
     },
     "execution_count": 49,
     "metadata": {},
     "output_type": "execute_result"
    },
    {
     "data": {
      "image/png": "[encoded data removed]",
      "text/plain": [
       "<Figure size 640x480 with 1 Axes>"
      ]
     },
     "metadata": {},
     "output_type": "display_data"
    }
   ],
   "source": [
    "# Plot log in frequency with risk score\n",
    "sns.barplot(x='login_frequency', y='risk_score', data=df, ci=None)"
   ]
  },
  {
   "cell_type": "markdown",
   "metadata": {},
   "source": [
    "## Label encode\n"
   ]
  },
  {
   "cell_type": "code",
   "execution_count": 50,
   "metadata": {},
   "outputs": [
    {
     "data": {
      "text/plain": [
       "Index(['transaction_type', 'location_region', 'purchase_pattern', 'age_group',\n",
       "       'anomaly'],\n",
       "      dtype='object')"
      ]
     },
     "execution_count": 50,
     "metadata": {},
     "output_type": "execute_result"
    }
   ],
   "source": [
    "categorical_columns"
   ]
  },
  {
   "cell_type": "code",
   "execution_count": 51,
   "metadata": {},
   "outputs": [
    {
     "data": {
      "text/plain": [
       "transaction_type    5\n",
       "location_region     5\n",
       "purchase_pattern    3\n",
       "age_group           3\n",
       "anomaly             3\n",
       "dtype: int64"
      ]
     },
     "execution_count": 51,
     "metadata": {},
     "output_type": "execute_result"
    }
   ],
   "source": [
    "df[categorical_columns].nunique()"
   ]
  },
  {
   "cell_type": "code",
   "execution_count": 52,
   "metadata": {},
   "outputs": [
    {
     "name": "stdout",
     "output_type": "stream",
     "text": [
      "Unique values in 'transaction_type': ['transfer' 'purchase' 'sale' 'scam' 'phishing']\n",
      "Unique values in 'location_region': ['South America' 'North America' 'Asia' 'Africa' 'Europe']\n",
      "Unique values in 'purchase_pattern': ['high_value' 'focused' 'random']\n",
      "Unique values in 'age_group': ['veteran' 'established' 'new']\n",
      "Unique values in 'anomaly': ['low_risk' 'moderate_risk' 'high_risk']\n"
     ]
    }
   ],
   "source": [
    "for column in df[categorical_columns]:\n",
    "    print(f\"Unique values in '{column}': {df[column].unique()}\")"
   ]
  },
  {
   "cell_type": "code",
   "execution_count": 53,
   "metadata": {},
   "outputs": [],
   "source": [
    "label_encoding = {\n",
    "    \"transaction_type\":{\"transfer\":0,\"purchase\":1,\"sale\":2,\"scam\":3,\"phishing\":4},\n",
    "    \"location_region\":{\"South America\":0,\"North America\":1,\"Asia\":2,\"Africa\":3,\"Europe\":4},\n",
    "    \"purchase_pattern\":{\"high_value\":0,\"focused\":1,\"random\":2},\n",
    "    \"age_group\":{\"veteran\":0,\"established\":1,\"new\":2},\n",
    "    \"anomaly\":{\"low_risk\":0,\"moderate_risk\":1,\"high_risk\":2},\n",
    "}\n",
    "df_labeled = df.replace(label_encoding)"
   ]
  },
  {
   "cell_type": "code",
   "execution_count": 54,
   "metadata": {},
   "outputs": [
    {
     "data": {
      "text/html": [
       "<div>\n",
       "<style scoped>\n",
       "    .dataframe tbody tr th:only-of-type {\n",
       "        vertical-align: middle;\n",
       "    }\n",
       "\n",
       "    .dataframe tbody tr th {\n",
       "        vertical-align: top;\n",
       "    }\n",
       "\n",
       "    .dataframe thead th {\n",
       "        text-align: right;\n",
       "    }\n",
       "</style>\n",
       "<table border=\"1\" class=\"dataframe\">\n",
       "  <thead>\n",
       "    <tr style=\"text-align: right;\">\n",
       "      <th></th>\n",
       "      <th>timestamp</th>\n",
       "      <th>hour_of_day</th>\n",
       "      <th>amount</th>\n",
       "      <th>transaction_type</th>\n",
       "      <th>location_region</th>\n",
       "      <th>login_frequency</th>\n",
       "      <th>session_duration</th>\n",
       "      <th>purchase_pattern</th>\n",
       "      <th>age_group</th>\n",
       "      <th>risk_score</th>\n",
       "      <th>anomaly</th>\n",
       "    </tr>\n",
       "  </thead>\n",
       "  <tbody>\n",
       "    <tr>\n",
       "      <th>0</th>\n",
       "      <td>2022-01-01 00:00:45</td>\n",
       "      <td>0</td>\n",
       "      <td>592.024530</td>\n",
       "      <td>0</td>\n",
       "      <td>0</td>\n",
       "      <td>6</td>\n",
       "      <td>84</td>\n",
       "      <td>0</td>\n",
       "      <td>0</td>\n",
       "      <td>49.6125</td>\n",
       "      <td>0</td>\n",
       "    </tr>\n",
       "    <tr>\n",
       "      <th>1</th>\n",
       "      <td>2022-01-01 00:12:24</td>\n",
       "      <td>0</td>\n",
       "      <td>755.500717</td>\n",
       "      <td>0</td>\n",
       "      <td>1</td>\n",
       "      <td>3</td>\n",
       "      <td>70</td>\n",
       "      <td>1</td>\n",
       "      <td>1</td>\n",
       "      <td>25.3125</td>\n",
       "      <td>0</td>\n",
       "    </tr>\n",
       "    <tr>\n",
       "      <th>2</th>\n",
       "      <td>2022-01-01 00:14:54</td>\n",
       "      <td>0</td>\n",
       "      <td>247.716361</td>\n",
       "      <td>0</td>\n",
       "      <td>2</td>\n",
       "      <td>5</td>\n",
       "      <td>54</td>\n",
       "      <td>1</td>\n",
       "      <td>1</td>\n",
       "      <td>20.2500</td>\n",
       "      <td>0</td>\n",
       "    </tr>\n",
       "    <tr>\n",
       "      <th>3</th>\n",
       "      <td>2022-01-01 00:27:12</td>\n",
       "      <td>0</td>\n",
       "      <td>422.789709</td>\n",
       "      <td>1</td>\n",
       "      <td>1</td>\n",
       "      <td>4</td>\n",
       "      <td>62</td>\n",
       "      <td>1</td>\n",
       "      <td>1</td>\n",
       "      <td>35.4375</td>\n",
       "      <td>0</td>\n",
       "    </tr>\n",
       "    <tr>\n",
       "      <th>4</th>\n",
       "      <td>2022-01-01 00:36:27</td>\n",
       "      <td>0</td>\n",
       "      <td>353.949174</td>\n",
       "      <td>2</td>\n",
       "      <td>0</td>\n",
       "      <td>7</td>\n",
       "      <td>94</td>\n",
       "      <td>0</td>\n",
       "      <td>0</td>\n",
       "      <td>70.8750</td>\n",
       "      <td>1</td>\n",
       "    </tr>\n",
       "  </tbody>\n",
       "</table>\n",
       "</div>"
      ],
      "text/plain": [
       "            timestamp  hour_of_day      amount  transaction_type  \\\n",
       "0 2022-01-01 00:00:45            0  592.024530                 0   \n",
       "1 2022-01-01 00:12:24            0  755.500717                 0   \n",
       "2 2022-01-01 00:14:54            0  247.716361                 0   \n",
       "3 2022-01-01 00:27:12            0  422.789709                 1   \n",
       "4 2022-01-01 00:36:27            0  353.949174                 2   \n",
       "\n",
       "   location_region  login_frequency  session_duration  purchase_pattern  \\\n",
       "0                0                6                84                 0   \n",
       "1                1                3                70                 1   \n",
       "2                2                5                54                 1   \n",
       "3                1                4                62                 1   \n",
       "4                0                7                94                 0   \n",
       "\n",
       "   age_group  risk_score  anomaly  \n",
       "0          0     49.6125        0  \n",
       "1          1     25.3125        0  \n",
       "2          1     20.2500        0  \n",
       "3          1     35.4375        0  \n",
       "4          0     70.8750        1  "
      ]
     },
     "execution_count": 54,
     "metadata": {},
     "output_type": "execute_result"
    }
   ],
   "source": [
    "df_labeled.head()"
   ]
  },
  {
   "cell_type": "markdown",
   "metadata": {},
   "source": [
    "## Correlation\n"
   ]
  },
  {
   "cell_type": "code",
   "execution_count": 55,
   "metadata": {},
   "outputs": [
    {
     "data": {
      "text/plain": [
       "<Axes: >"
      ]
     },
     "execution_count": 55,
     "metadata": {},
     "output_type": "execute_result"
    },
    {
     "data": {
      "image/png": "[encoded data removed]",
      "text/plain": [
       "<Figure size 1500x1200 with 2 Axes>"
      ]
     },
     "metadata": {},
     "output_type": "display_data"
    }
   ],
   "source": [
    "# Correlation heatmap\n",
    "corr = df_labeled.corr().round(2)\n",
    "plt.figure(figsize=(15,12))\n",
    "sns.heatmap(data=corr,cmap='mako', cbar=True, annot=True)"
   ]
  },
  {
   "cell_type": "markdown",
   "metadata": {},
   "source": [
    "## Model\n"
   ]
  },
  {
   "cell_type": "code",
   "execution_count": 56,
   "metadata": {},
   "outputs": [
    {
     "data": {
      "text/plain": [
       "Index(['timestamp', 'hour_of_day', 'amount', 'transaction_type',\n",
       "       'location_region', 'login_frequency', 'session_duration',\n",
       "       'purchase_pattern', 'age_group', 'risk_score', 'anomaly'],\n",
       "      dtype='object')"
      ]
     },
     "execution_count": 56,
     "metadata": {},
     "output_type": "execute_result"
    }
   ],
   "source": [
    "df_labeled.columns"
   ]
  },
  {
   "cell_type": "code",
   "execution_count": 57,
   "metadata": {},
   "outputs": [
    {
     "data": {
      "text/plain": [
       "Index(['hour_of_day', 'amount', 'login_frequency', 'session_duration',\n",
       "       'risk_score'],\n",
       "      dtype='object')"
      ]
     },
     "execution_count": 57,
     "metadata": {},
     "output_type": "execute_result"
    }
   ],
   "source": [
    "numeric_columns"
   ]
  },
  {
   "cell_type": "code",
   "execution_count": 58,
   "metadata": {},
   "outputs": [
    {
     "data": {
      "text/plain": [
       "Index(['transaction_type', 'location_region', 'purchase_pattern', 'age_group',\n",
       "       'anomaly'],\n",
       "      dtype='object')"
      ]
     },
     "execution_count": 58,
     "metadata": {},
     "output_type": "execute_result"
    }
   ],
   "source": [
    "categorical_columns"
   ]
  },
  {
   "cell_type": "code",
   "execution_count": 59,
   "metadata": {},
   "outputs": [],
   "source": [
    "# Split feature and target\n",
    "X = df_labeled[['hour_of_day', 'amount', 'login_frequency', 'session_duration', 'risk_score','transaction_type', 'location_region', 'purchase_pattern', 'age_group']]\n",
    "y = df_labeled['anomaly']"
   ]
  },
  {
   "cell_type": "code",
   "execution_count": 60,
   "metadata": {},
   "outputs": [
    {
     "data": {
      "text/plain": [
       "(78600, 9)"
      ]
     },
     "execution_count": 60,
     "metadata": {},
     "output_type": "execute_result"
    }
   ],
   "source": [
    "X.shape"
   ]
  },
  {
   "cell_type": "code",
   "execution_count": 61,
   "metadata": {},
   "outputs": [
    {
     "data": {
      "text/plain": [
       "(78600,)"
      ]
     },
     "execution_count": 61,
     "metadata": {},
     "output_type": "execute_result"
    }
   ],
   "source": [
    "y.shape"
   ]
  },
  {
   "cell_type": "code",
   "execution_count": 62,
   "metadata": {},
   "outputs": [
    {
     "name": "stderr",
     "output_type": "stream",
     "text": [
      "C:\\Users\\fsukr\\AppData\\Local\\Temp\\ipykernel_19476\\2372940263.py:2: SettingWithCopyWarning: \n",
      "A value is trying to be set on a copy of a slice from a DataFrame.\n",
      "Try using .loc[row_indexer,col_indexer] = value instead\n",
      "\n",
      "See the caveats in the documentation: https://pandas.pydata.org/pandas-docs/stable/user_guide/indexing.html#returning-a-view-versus-a-copy\n",
      "  X[numeric_columns] = scaler.fit_transform(X[numeric_columns])\n"
     ]
    }
   ],
   "source": [
    "scaler = MinMaxScaler()\n",
    "X[numeric_columns] = scaler.fit_transform(X[numeric_columns])"
   ]
  },
  {
   "cell_type": "code",
   "execution_count": 63,
   "metadata": {},
   "outputs": [
    {
     "data": {
      "text/html": [
       "<div>\n",
       "<style scoped>\n",
       "    .dataframe tbody tr th:only-of-type {\n",
       "        vertical-align: middle;\n",
       "    }\n",
       "\n",
       "    .dataframe tbody tr th {\n",
       "        vertical-align: top;\n",
       "    }\n",
       "\n",
       "    .dataframe thead th {\n",
       "        text-align: right;\n",
       "    }\n",
       "</style>\n",
       "<table border=\"1\" class=\"dataframe\">\n",
       "  <thead>\n",
       "    <tr style=\"text-align: right;\">\n",
       "      <th></th>\n",
       "      <th>hour_of_day</th>\n",
       "      <th>amount</th>\n",
       "      <th>login_frequency</th>\n",
       "      <th>session_duration</th>\n",
       "      <th>risk_score</th>\n",
       "      <th>transaction_type</th>\n",
       "      <th>location_region</th>\n",
       "      <th>purchase_pattern</th>\n",
       "      <th>age_group</th>\n",
       "    </tr>\n",
       "  </thead>\n",
       "  <tbody>\n",
       "    <tr>\n",
       "      <th>count</th>\n",
       "      <td>78600.000000</td>\n",
       "      <td>78600.000000</td>\n",
       "      <td>78600.000000</td>\n",
       "      <td>78600.000000</td>\n",
       "      <td>78600.000000</td>\n",
       "      <td>78600.000000</td>\n",
       "      <td>78600.000000</td>\n",
       "      <td>78600.000000</td>\n",
       "      <td>78600.000000</td>\n",
       "    </tr>\n",
       "    <tr>\n",
       "      <th>mean</th>\n",
       "      <td>0.501419</td>\n",
       "      <td>0.322749</td>\n",
       "      <td>0.454100</td>\n",
       "      <td>0.357443</td>\n",
       "      <td>0.352432</td>\n",
       "      <td>1.234746</td>\n",
       "      <td>1.999860</td>\n",
       "      <td>0.996476</td>\n",
       "      <td>0.996476</td>\n",
       "    </tr>\n",
       "    <tr>\n",
       "      <th>std</th>\n",
       "      <td>0.301561</td>\n",
       "      <td>0.157916</td>\n",
       "      <td>0.338005</td>\n",
       "      <td>0.291543</td>\n",
       "      <td>0.256181</td>\n",
       "      <td>1.018560</td>\n",
       "      <td>1.414659</td>\n",
       "      <td>0.817794</td>\n",
       "      <td>0.817794</td>\n",
       "    </tr>\n",
       "    <tr>\n",
       "      <th>min</th>\n",
       "      <td>0.000000</td>\n",
       "      <td>0.000000</td>\n",
       "      <td>0.000000</td>\n",
       "      <td>0.000000</td>\n",
       "      <td>0.000000</td>\n",
       "      <td>0.000000</td>\n",
       "      <td>0.000000</td>\n",
       "      <td>0.000000</td>\n",
       "      <td>0.000000</td>\n",
       "    </tr>\n",
       "    <tr>\n",
       "      <th>25%</th>\n",
       "      <td>0.260870</td>\n",
       "      <td>0.212768</td>\n",
       "      <td>0.142857</td>\n",
       "      <td>0.107914</td>\n",
       "      <td>0.132353</td>\n",
       "      <td>0.000000</td>\n",
       "      <td>1.000000</td>\n",
       "      <td>0.000000</td>\n",
       "      <td>0.000000</td>\n",
       "    </tr>\n",
       "    <tr>\n",
       "      <th>50%</th>\n",
       "      <td>0.521739</td>\n",
       "      <td>0.321114</td>\n",
       "      <td>0.428571</td>\n",
       "      <td>0.287770</td>\n",
       "      <td>0.294118</td>\n",
       "      <td>1.000000</td>\n",
       "      <td>2.000000</td>\n",
       "      <td>1.000000</td>\n",
       "      <td>1.000000</td>\n",
       "    </tr>\n",
       "    <tr>\n",
       "      <th>75%</th>\n",
       "      <td>0.782609</td>\n",
       "      <td>0.429966</td>\n",
       "      <td>0.714286</td>\n",
       "      <td>0.575540</td>\n",
       "      <td>0.441176</td>\n",
       "      <td>2.000000</td>\n",
       "      <td>3.000000</td>\n",
       "      <td>2.000000</td>\n",
       "      <td>2.000000</td>\n",
       "    </tr>\n",
       "    <tr>\n",
       "      <th>max</th>\n",
       "      <td>1.000000</td>\n",
       "      <td>1.000000</td>\n",
       "      <td>1.000000</td>\n",
       "      <td>1.000000</td>\n",
       "      <td>1.000000</td>\n",
       "      <td>4.000000</td>\n",
       "      <td>4.000000</td>\n",
       "      <td>2.000000</td>\n",
       "      <td>2.000000</td>\n",
       "    </tr>\n",
       "  </tbody>\n",
       "</table>\n",
       "</div>"
      ],
      "text/plain": [
       "        hour_of_day        amount  login_frequency  session_duration  \\\n",
       "count  78600.000000  78600.000000     78600.000000      78600.000000   \n",
       "mean       0.501419      0.322749         0.454100          0.357443   \n",
       "std        0.301561      0.157916         0.338005          0.291543   \n",
       "min        0.000000      0.000000         0.000000          0.000000   \n",
       "25%        0.260870      0.212768         0.142857          0.107914   \n",
       "50%        0.521739      0.321114         0.428571          0.287770   \n",
       "75%        0.782609      0.429966         0.714286          0.575540   \n",
       "max        1.000000      1.000000         1.000000          1.000000   \n",
       "\n",
       "         risk_score  transaction_type  location_region  purchase_pattern  \\\n",
       "count  78600.000000      78600.000000     78600.000000      78600.000000   \n",
       "mean       0.352432          1.234746         1.999860          0.996476   \n",
       "std        0.256181          1.018560         1.414659          0.817794   \n",
       "min        0.000000          0.000000         0.000000          0.000000   \n",
       "25%        0.132353          0.000000         1.000000          0.000000   \n",
       "50%        0.294118          1.000000         2.000000          1.000000   \n",
       "75%        0.441176          2.000000         3.000000          2.000000   \n",
       "max        1.000000          4.000000         4.000000          2.000000   \n",
       "\n",
       "          age_group  \n",
       "count  78600.000000  \n",
       "mean       0.996476  \n",
       "std        0.817794  \n",
       "min        0.000000  \n",
       "25%        0.000000  \n",
       "50%        1.000000  \n",
       "75%        2.000000  \n",
       "max        2.000000  "
      ]
     },
     "execution_count": 63,
     "metadata": {},
     "output_type": "execute_result"
    }
   ],
   "source": [
    "X.describe()"
   ]
  },
  {
   "cell_type": "code",
   "execution_count": 64,
   "metadata": {},
   "outputs": [
    {
     "name": "stdout",
     "output_type": "stream",
     "text": [
      "TRAIN: [15525 15528 15532 ... 78597 78598 78599] TEST: [    0     1     2 ... 15833 15858 15873]\n",
      "TRAIN: [    0     1     2 ... 78597 78598 78599] TEST: [15525 15528 15532 ... 31498 31499 31500]\n",
      "TRAIN: [    0     1     2 ... 78597 78598 78599] TEST: [31228 31230 31234 ... 47337 47338 47339]\n",
      "TRAIN: [    0     1     2 ... 78597 78598 78599] TEST: [46378 46388 46400 ... 62930 62932 62935]\n",
      "TRAIN: [    0     1     2 ... 62930 62932 62935] TEST: [62465 62500 62513 ... 78597 78598 78599]\n"
     ]
    }
   ],
   "source": [
    "skf = StratifiedKFold()\n",
    "for train_index, test_index in skf.split(X, y):\n",
    "    print(\"TRAIN:\", train_index, \"TEST:\", test_index)\n",
    "    X_train, X_test = X.iloc[train_index], X.iloc[test_index]\n",
    "    y_train, y_test = y.iloc[train_index], y.iloc[test_index]"
   ]
  },
  {
   "cell_type": "code",
   "execution_count": 55,
   "metadata": {},
   "outputs": [],
   "source": [
    "#X_train, X_test, y_train, y_test = train_test_split(X, y, test_size=0.3, random_state=1234, stratify=y)"
   ]
  },
  {
   "cell_type": "code",
   "execution_count": 65,
   "metadata": {},
   "outputs": [
    {
     "name": "stdout",
     "output_type": "stream",
     "text": [
      "X_train shape: (62880, 9)\n",
      "X_test shape: (15720, 9)\n",
      "y_train shape: (62880,)\n",
      "y_test shape: (15720,)\n"
     ]
    }
   ],
   "source": [
    "print(\"X_train shape:\", X_train.shape)\n",
    "print(\"X_test shape:\", X_test.shape)\n",
    "print(\"y_train shape:\", y_train.shape)\n",
    "print(\"y_test shape:\", y_test.shape)"
   ]
  },
  {
   "cell_type": "code",
   "execution_count": 66,
   "metadata": {},
   "outputs": [],
   "source": [
    "# Handling imbalance data\n",
    "smt = SMOTETomek(random_state=42)\n",
    "X_train_resampled, y_train_resampled  = smt.fit_resample(X_train, y_train)"
   ]
  },
  {
   "cell_type": "code",
   "execution_count": 67,
   "metadata": {},
   "outputs": [
    {
     "name": "stdout",
     "output_type": "stream",
     "text": [
      "Original Training target statistics: anomaly\n",
      "0    50796\n",
      "1     6888\n",
      "2     5196\n",
      "Name: count, dtype: int64\n",
      "Resampled Training target statistics: anomaly\n",
      "0    50796\n",
      "1    50796\n",
      "2    50796\n",
      "Name: count, dtype: int64\n"
     ]
    }
   ],
   "source": [
    "print(f\"Original Training target statistics: {pd.Series(y_train).value_counts()}\")\n",
    "print(f\"Resampled Training target statistics: {pd.Series(y_train_resampled).value_counts()}\")"
   ]
  },
  {
   "cell_type": "markdown",
   "metadata": {},
   "source": [
    "### KNN\n"
   ]
  },
  {
   "cell_type": "code",
   "execution_count": 117,
   "metadata": {},
   "outputs": [
    {
     "name": "stdout",
     "output_type": "stream",
     "text": [
      "Fitting 5 folds for each of 36 candidates, totalling 180 fits\n",
      "Best parameters: {'metric': 'euclidean', 'n_neighbors': 1, 'weights': 'uniform'}\n",
      "Best cross-validation score: 1.0\n"
     ]
    }
   ],
   "source": [
    "# Find best parameter for KNN\n",
    "knn = KNeighborsClassifier()\n",
    "\n",
    "param_grid = {\n",
    "    'n_neighbors': [1, 3, 5, 7, 9, 11],\n",
    "    'weights': ['uniform', 'distance'],\n",
    "    'metric': ['euclidean', 'manhattan', 'minkowski']\n",
    "}\n",
    "grid = GridSearchCV(KNeighborsClassifier(), param_grid, cv=5, scoring='accuracy', verbose=1)\n",
    "grid.fit(X_train_resampled, y_train_resampled)\n",
    "print(\"Best parameters:\", grid.best_params_)\n",
    "print(\"Best cross-validation score:\", grid.best_score_)"
   ]
  },
  {
   "cell_type": "code",
   "execution_count": 68,
   "metadata": {},
   "outputs": [],
   "source": [
    "knn = KNeighborsClassifier(n_neighbors=1, metric = 'euclidean', p = 2, weights= 'uniform')\n",
    "knn.fit(X_train_resampled, y_train_resampled)\n",
    "y_pred = knn.predict(X_test)"
   ]
  },
  {
   "cell_type": "code",
   "execution_count": 69,
   "metadata": {},
   "outputs": [
    {
     "data": {
      "image/png": "[encoded data removed]",
      "text/plain": [
       "<Figure size 800x600 with 1 Axes>"
      ]
     },
     "metadata": {},
     "output_type": "display_data"
    },
    {
     "name": "stdout",
     "output_type": "stream",
     "text": [
      "              precision    recall  f1-score   support\n",
      "\n",
      "           0       1.00      1.00      1.00     12698\n",
      "           1       1.00      1.00      1.00      1723\n",
      "           2       1.00      1.00      1.00      1299\n",
      "\n",
      "    accuracy                           1.00     15720\n",
      "   macro avg       1.00      1.00      1.00     15720\n",
      "weighted avg       1.00      1.00      1.00     15720\n",
      "\n"
     ]
    }
   ],
   "source": [
    "# Evaluate the model\n",
    "cm = confusion_matrix(y_test, y_pred)\n",
    "plt.figure(figsize=(8, 6))\n",
    "sns.heatmap(cm, annot=True, fmt='d', cmap='Blues', cbar=False)\n",
    "plt.xlabel('Predicted labels')\n",
    "plt.ylabel('True labels')\n",
    "plt.title('Confusion Matrix')\n",
    "plt.show()\n",
    "\n",
    "classification_knn = (classification_report(y_test, y_pred))\n",
    "print(classification_knn)"
   ]
  },
  {
   "cell_type": "markdown",
   "metadata": {},
   "source": [
    "### Decision tree\n"
   ]
  },
  {
   "cell_type": "code",
   "execution_count": 72,
   "metadata": {},
   "outputs": [
    {
     "name": "stdout",
     "output_type": "stream",
     "text": [
      "Mín Split:  11\n",
      "Max Nvl:  19\n",
      "Algorithm:  gini\n",
      "Score:  1.0\n"
     ]
    }
   ],
   "source": [
    "# Find best parameter for decision tree\n",
    "parameters = {'max_depth': [11, 13, 15, 17, 19, 21, 23],\n",
    "              'min_samples_split': [9, 11, 13, 15, 17, 19],\n",
    "              'criterion': ['entropy', 'gini']\n",
    "             }\n",
    "\n",
    "dt_classifier = DecisionTreeClassifier(random_state=1234)\n",
    "gridDecisionTree = RandomizedSearchCV(dt_classifier, parameters, cv = 5)\n",
    "gridDecisionTree.fit(X_train_resampled, y_train_resampled)\n",
    "\n",
    "print('Mín Split: ', gridDecisionTree.best_estimator_.min_samples_split)\n",
    "print('Max Nvl: ', gridDecisionTree.best_estimator_.max_depth)\n",
    "print('Algorithm: ', gridDecisionTree.best_estimator_.criterion)\n",
    "print('Score: ', gridDecisionTree.best_score_)"
   ]
  },
  {
   "cell_type": "code",
   "execution_count": 73,
   "metadata": {},
   "outputs": [],
   "source": [
    "decision_tree = DecisionTreeClassifier(criterion = 'gini', min_samples_split = 11, max_depth= 19, random_state=1234)\n",
    "decision_tree.fit(X_train_resampled, y_train_resampled)\n",
    "y_pred_dt = decision_tree.predict(X_test)"
   ]
  },
  {
   "cell_type": "code",
   "execution_count": 74,
   "metadata": {},
   "outputs": [
    {
     "data": {
      "image/png": "[encoded data removed]",
      "text/plain": [
       "<Figure size 800x600 with 1 Axes>"
      ]
     },
     "metadata": {},
     "output_type": "display_data"
    },
    {
     "name": "stdout",
     "output_type": "stream",
     "text": [
      "Classification Report:\n",
      "               precision    recall  f1-score   support\n",
      "\n",
      "           0       1.00      1.00      1.00     12698\n",
      "           1       1.00      1.00      1.00      1723\n",
      "           2       1.00      1.00      1.00      1299\n",
      "\n",
      "    accuracy                           1.00     15720\n",
      "   macro avg       1.00      1.00      1.00     15720\n",
      "weighted avg       1.00      1.00      1.00     15720\n",
      "\n"
     ]
    }
   ],
   "source": [
    "# Evaluate the model\n",
    "cm = confusion_matrix(y_test, y_pred_dt)\n",
    "plt.figure(figsize=(8, 6))\n",
    "sns.heatmap(cm, annot=True, fmt='d', cmap='Blues', cbar=False)\n",
    "plt.xlabel('Predicted labels')\n",
    "plt.ylabel('True labels')\n",
    "plt.title('Confusion Matrix')\n",
    "plt.show()\n",
    "\n",
    "print(\"Classification Report:\\n\", classification_report(y_test, y_pred_dt))"
   ]
  },
  {
   "cell_type": "markdown",
   "metadata": {},
   "source": [
    "### Random forest\n"
   ]
  },
  {
   "cell_type": "code",
   "execution_count": 124,
   "metadata": {},
   "outputs": [
    {
     "name": "stdout",
     "output_type": "stream",
     "text": [
      "Fitting 3 folds for each of 18 candidates, totalling 54 fits\n",
      "[CV] END max_depth=10, min_samples_split=2, n_estimators=100; total time=   2.7s\n",
      "[CV] END max_depth=10, min_samples_split=2, n_estimators=100; total time=   2.7s\n",
      "[CV] END max_depth=10, min_samples_split=2, n_estimators=100; total time=   2.7s\n",
      "[CV] END max_depth=10, min_samples_split=2, n_estimators=200; total time=   5.5s\n",
      "[CV] END max_depth=10, min_samples_split=2, n_estimators=200; total time=   5.3s\n",
      "[CV] END max_depth=10, min_samples_split=2, n_estimators=200; total time=   5.3s\n",
      "[CV] END max_depth=10, min_samples_split=5, n_estimators=100; total time=   2.6s\n",
      "[CV] END max_depth=10, min_samples_split=5, n_estimators=100; total time=   2.6s\n",
      "[CV] END max_depth=10, min_samples_split=5, n_estimators=100; total time=   2.6s\n",
      "[CV] END max_depth=10, min_samples_split=5, n_estimators=200; total time=   5.4s\n",
      "[CV] END max_depth=10, min_samples_split=5, n_estimators=200; total time=   5.3s\n",
      "[CV] END max_depth=10, min_samples_split=5, n_estimators=200; total time=   5.3s\n",
      "[CV] END max_depth=10, min_samples_split=10, n_estimators=100; total time=   2.7s\n",
      "[CV] END max_depth=10, min_samples_split=10, n_estimators=100; total time=   2.6s\n",
      "[CV] END max_depth=10, min_samples_split=10, n_estimators=100; total time=   2.6s\n",
      "[CV] END max_depth=10, min_samples_split=10, n_estimators=200; total time=   5.5s\n",
      "[CV] END max_depth=10, min_samples_split=10, n_estimators=200; total time=   5.4s\n",
      "[CV] END max_depth=10, min_samples_split=10, n_estimators=200; total time=   5.3s\n",
      "[CV] END max_depth=20, min_samples_split=2, n_estimators=100; total time=   2.7s\n",
      "[CV] END max_depth=20, min_samples_split=2, n_estimators=100; total time=   2.6s\n",
      "[CV] END max_depth=20, min_samples_split=2, n_estimators=100; total time=   2.6s\n",
      "[CV] END max_depth=20, min_samples_split=2, n_estimators=200; total time=   5.5s\n",
      "[CV] END max_depth=20, min_samples_split=2, n_estimators=200; total time=   5.3s\n",
      "[CV] END max_depth=20, min_samples_split=2, n_estimators=200; total time=   5.3s\n",
      "[CV] END max_depth=20, min_samples_split=5, n_estimators=100; total time=   2.7s\n",
      "[CV] END max_depth=20, min_samples_split=5, n_estimators=100; total time=   2.6s\n",
      "[CV] END max_depth=20, min_samples_split=5, n_estimators=100; total time=   2.6s\n",
      "[CV] END max_depth=20, min_samples_split=5, n_estimators=200; total time=   5.4s\n",
      "[CV] END max_depth=20, min_samples_split=5, n_estimators=200; total time=   5.3s\n",
      "[CV] END max_depth=20, min_samples_split=5, n_estimators=200; total time=   5.3s\n",
      "[CV] END max_depth=20, min_samples_split=10, n_estimators=100; total time=   2.6s\n",
      "[CV] END max_depth=20, min_samples_split=10, n_estimators=100; total time=   2.6s\n",
      "[CV] END max_depth=20, min_samples_split=10, n_estimators=100; total time=   2.6s\n",
      "[CV] END max_depth=20, min_samples_split=10, n_estimators=200; total time=   5.4s\n",
      "[CV] END max_depth=20, min_samples_split=10, n_estimators=200; total time=   5.3s\n",
      "[CV] END max_depth=20, min_samples_split=10, n_estimators=200; total time=   5.3s\n",
      "[CV] END max_depth=30, min_samples_split=2, n_estimators=100; total time=   2.7s\n",
      "[CV] END max_depth=30, min_samples_split=2, n_estimators=100; total time=   2.6s\n",
      "[CV] END max_depth=30, min_samples_split=2, n_estimators=100; total time=   2.6s\n",
      "[CV] END max_depth=30, min_samples_split=2, n_estimators=200; total time=   5.4s\n",
      "[CV] END max_depth=30, min_samples_split=2, n_estimators=200; total time=   5.3s\n",
      "[CV] END max_depth=30, min_samples_split=2, n_estimators=200; total time=   5.3s\n",
      "[CV] END max_depth=30, min_samples_split=5, n_estimators=100; total time=   2.6s\n",
      "[CV] END max_depth=30, min_samples_split=5, n_estimators=100; total time=   2.6s\n",
      "[CV] END max_depth=30, min_samples_split=5, n_estimators=100; total time=   2.6s\n",
      "[CV] END max_depth=30, min_samples_split=5, n_estimators=200; total time=   5.4s\n",
      "[CV] END max_depth=30, min_samples_split=5, n_estimators=200; total time=   5.3s\n",
      "[CV] END max_depth=30, min_samples_split=5, n_estimators=200; total time=   5.3s\n",
      "[CV] END max_depth=30, min_samples_split=10, n_estimators=100; total time=   2.6s\n",
      "[CV] END max_depth=30, min_samples_split=10, n_estimators=100; total time=   2.6s\n",
      "[CV] END max_depth=30, min_samples_split=10, n_estimators=100; total time=   2.6s\n",
      "[CV] END max_depth=30, min_samples_split=10, n_estimators=200; total time=   5.4s\n",
      "[CV] END max_depth=30, min_samples_split=10, n_estimators=200; total time=   5.3s\n",
      "[CV] END max_depth=30, min_samples_split=10, n_estimators=200; total time=   5.3s\n",
      "Best parameters: {'max_depth': 10, 'min_samples_split': 2, 'n_estimators': 100}\n",
      "Best score: 1.0\n"
     ]
    }
   ],
   "source": [
    "# Find best parameter for Random forest\n",
    "param_grid = {\n",
    "    'n_estimators': [100, 200],\n",
    "    'max_depth': [10, 20, 30],\n",
    "    'min_samples_split': [2, 5, 10]\n",
    "}\n",
    "rf_classifier = RandomForestClassifier(random_state=1234)\n",
    "rf_grid_search = GridSearchCV(estimator=rf_classifier, param_grid=param_grid, cv=3, verbose=2)\n",
    "rf_grid_search.fit(X_train_resampled, y_train_resampled)\n",
    "\n",
    "print(\"Best parameters:\", rf_grid_search.best_params_)\n",
    "print(\"Best score:\", rf_grid_search.best_score_)"
   ]
  },
  {
   "cell_type": "code",
   "execution_count": 75,
   "metadata": {},
   "outputs": [],
   "source": [
    "rf_classifier = RandomForestClassifier(n_estimators=100, max_depth=10, min_samples_split=2, random_state=1234)\n",
    "rf_classifier.fit(X_train_resampled, y_train_resampled)\n",
    "y_pred_rf = rf_classifier.predict(X_test)"
   ]
  },
  {
   "cell_type": "code",
   "execution_count": 76,
   "metadata": {},
   "outputs": [
    {
     "data": {
      "image/png": "[encoded data removed]",
      "text/plain": [
       "<Figure size 800x600 with 1 Axes>"
      ]
     },
     "metadata": {},
     "output_type": "display_data"
    },
    {
     "name": "stdout",
     "output_type": "stream",
     "text": [
      "Classification Report:\n",
      "               precision    recall  f1-score   support\n",
      "\n",
      "           0       1.00      1.00      1.00     12698\n",
      "           1       1.00      1.00      1.00      1723\n",
      "           2       1.00      1.00      1.00      1299\n",
      "\n",
      "    accuracy                           1.00     15720\n",
      "   macro avg       1.00      1.00      1.00     15720\n",
      "weighted avg       1.00      1.00      1.00     15720\n",
      "\n"
     ]
    }
   ],
   "source": [
    "# Evaluate the model\n",
    "cm = confusion_matrix(y_test, y_pred_rf)\n",
    "plt.figure(figsize=(8, 6))\n",
    "sns.heatmap(cm, annot=True, fmt='d', cmap='Blues', cbar=False)\n",
    "plt.xlabel('Predicted labels')\n",
    "plt.ylabel('True labels')\n",
    "plt.title('Confusion Matrix')\n",
    "plt.show()\n",
    "\n",
    "print(\"Classification Report:\\n\", classification_report(y_test, y_pred_rf))"
   ]
  },
  {
   "cell_type": "code",
   "execution_count": 77,
   "metadata": {},
   "outputs": [
    {
     "name": "stdout",
     "output_type": "stream",
     "text": [
      "            Feature  Importance\n",
      "4        risk_score    0.443782\n",
      "5  transaction_type    0.246417\n",
      "2   login_frequency    0.086690\n",
      "3  session_duration    0.074302\n",
      "8         age_group    0.057426\n",
      "7  purchase_pattern    0.044784\n",
      "0       hour_of_day    0.024651\n",
      "1            amount    0.021932\n",
      "6   location_region    0.000017\n"
     ]
    }
   ],
   "source": [
    "# Feature Importance\n",
    "importances = rf_classifier.feature_importances_\n",
    "feature_names = X.columns\n",
    "\n",
    "feature_importance_df = pd.DataFrame({'Feature': feature_names, 'Importance': importances})\n",
    "print(feature_importance_df.sort_values(by='Importance', ascending=False))"
   ]
  },
  {
   "cell_type": "markdown",
   "metadata": {},
   "source": [
    "### Naive Bayes\n"
   ]
  },
  {
   "cell_type": "code",
   "execution_count": 129,
   "metadata": {},
   "outputs": [
    {
     "name": "stdout",
     "output_type": "stream",
     "text": [
      "Fitting 5 folds for each of 100 candidates, totalling 500 fits\n",
      "Best Parameters: {'var_smoothing': 0.006579332246575682}\n",
      "Best Cross-validation Score: 0.9306703991438893\n"
     ]
    }
   ],
   "source": [
    "# Find best parameter for Naive Bayes\n",
    "param_grid = {\n",
    "    'var_smoothing': np.logspace(0,-9, num=100)\n",
    "}\n",
    "gnb = GaussianNB()\n",
    "grid_nb = GridSearchCV(estimator=gnb, param_grid=param_grid, cv=5, verbose=1, scoring='accuracy')\n",
    "grid_nb.fit(X_train_resampled, y_train_resampled)\n",
    "\n",
    "print(\"Best Parameters:\", grid_nb.best_params_)\n",
    "print(\"Best Cross-validation Score:\", grid_nb.best_score_)"
   ]
  },
  {
   "cell_type": "code",
   "execution_count": 78,
   "metadata": {},
   "outputs": [],
   "source": [
    "nb_classifier = GaussianNB(var_smoothing=0.006579332246575682)\n",
    "nb_classifier.fit(X_train_resampled, y_train_resampled)\n",
    "y_pred_nb = nb_classifier.predict(X_test)"
   ]
  },
  {
   "cell_type": "code",
   "execution_count": 79,
   "metadata": {},
   "outputs": [
    {
     "data": {
      "image/png": "[encoded data removed]",
      "text/plain": [
       "<Figure size 800x600 with 1 Axes>"
      ]
     },
     "metadata": {},
     "output_type": "display_data"
    },
    {
     "name": "stdout",
     "output_type": "stream",
     "text": [
      "Classification Report:\n",
      "               precision    recall  f1-score   support\n",
      "\n",
      "           0       1.00      0.84      0.91     12698\n",
      "           1       0.44      0.95      0.60      1723\n",
      "           2       0.94      1.00      0.97      1299\n",
      "\n",
      "    accuracy                           0.86     15720\n",
      "   macro avg       0.79      0.93      0.83     15720\n",
      "weighted avg       0.93      0.86      0.88     15720\n",
      "\n"
     ]
    }
   ],
   "source": [
    "# Evaluate the model\n",
    "cm = confusion_matrix(y_test, y_pred_nb)\n",
    "plt.figure(figsize=(8, 6))\n",
    "sns.heatmap(cm, annot=True, fmt='d', cmap='Blues', cbar=False)\n",
    "plt.xlabel('Predicted labels')\n",
    "plt.ylabel('True labels')\n",
    "plt.title('Confusion Matrix')\n",
    "plt.show()\n",
    "\n",
    "print(\"Classification Report:\\n\", classification_report(y_test, y_pred_nb))"
   ]
  },
  {
   "cell_type": "markdown",
   "metadata": {},
   "source": [
    "### Logistic Regression\n"
   ]
  },
  {
   "cell_type": "code",
   "execution_count": 80,
   "metadata": {},
   "outputs": [
    {
     "name": "stderr",
     "output_type": "stream",
     "text": [
      "c:\\Users\\fsukr\\anaconda3\\Lib\\site-packages\\sklearn\\linear_model\\_logistic.py:458: ConvergenceWarning: lbfgs failed to converge (status=1):\n",
      "STOP: TOTAL NO. of ITERATIONS REACHED LIMIT.\n",
      "\n",
      "Increase the number of iterations (max_iter) or scale the data as shown in:\n",
      "    https://scikit-learn.org/stable/modules/preprocessing.html\n",
      "Please also refer to the documentation for alternative solver options:\n",
      "    https://scikit-learn.org/stable/modules/linear_model.html#logistic-regression\n",
      "  n_iter_i = _check_optimize_result(\n"
     ]
    }
   ],
   "source": [
    "log_reg = LogisticRegression()\n",
    "log_reg.fit(X_train_resampled, y_train_resampled)\n",
    "y_pred_lr = log_reg.predict(X_test)"
   ]
  },
  {
   "cell_type": "code",
   "execution_count": 81,
   "metadata": {},
   "outputs": [
    {
     "data": {
      "image/png": "[encoded data removed]",
      "text/plain": [
       "<Figure size 800x600 with 1 Axes>"
      ]
     },
     "metadata": {},
     "output_type": "display_data"
    },
    {
     "name": "stdout",
     "output_type": "stream",
     "text": [
      "Classification Report:\n",
      "               precision    recall  f1-score   support\n",
      "\n",
      "           0       1.00      1.00      1.00     12698\n",
      "           1       1.00      1.00      1.00      1723\n",
      "           2       1.00      1.00      1.00      1299\n",
      "\n",
      "    accuracy                           1.00     15720\n",
      "   macro avg       1.00      1.00      1.00     15720\n",
      "weighted avg       1.00      1.00      1.00     15720\n",
      "\n"
     ]
    }
   ],
   "source": [
    "# Evaluate the model\n",
    "cm = confusion_matrix(y_test, y_pred_lr)\n",
    "plt.figure(figsize=(8, 6))\n",
    "sns.heatmap(cm, annot=True, fmt='d', cmap='Blues', cbar=False)\n",
    "plt.xlabel('Predicted labels')\n",
    "plt.ylabel('True labels')\n",
    "plt.title('Confusion Matrix')\n",
    "plt.show()\n",
    "\n",
    "print(\"Classification Report:\\n\", classification_report(y_test, y_pred_lr))"
   ]
  },
  {
   "cell_type": "markdown",
   "metadata": {},
   "source": [
    "## Model performance evaluation\n"
   ]
  },
  {
   "cell_type": "code",
   "execution_count": 82,
   "metadata": {},
   "outputs": [
    {
     "name": "stdout",
     "output_type": "stream",
     "text": [
      "           k-NN Classifier  Decision Tree Classifier  \\\n",
      "Accuracy               1.0                       1.0   \n",
      "Precision              1.0                       1.0   \n",
      "Recall                 1.0                       1.0   \n",
      "F1-score               1.0                       1.0   \n",
      "\n",
      "           Random Forest Classifier  Naive bayes Classifier  \\\n",
      "Accuracy                        1.0                0.861832   \n",
      "Precision                       1.0                0.793960   \n",
      "Recall                          1.0                0.929606   \n",
      "F1-score                        1.0                0.827470   \n",
      "\n",
      "           Logistic Regression  \n",
      "Accuracy                   1.0  \n",
      "Precision                  1.0  \n",
      "Recall                     1.0  \n",
      "F1-score                   1.0  \n"
     ]
    }
   ],
   "source": [
    "# Calculate evaluation metrics for KNN classifier\n",
    "accuracy_knn = accuracy_score(y_test, y_pred)\n",
    "precision_knn = precision_score(y_test, y_pred, average='macro')\n",
    "recall_knn = recall_score(y_test, y_pred, average='macro')\n",
    "f1_knn = f1_score(y_test, y_pred, average='macro')\n",
    "\n",
    "# Calculate evaluation metrics for Decision Tree classifier\n",
    "accuracy_dt = accuracy_score(y_test, y_pred_dt)\n",
    "precision_dt = precision_score(y_test, y_pred_dt, average='macro')\n",
    "recall_dt = recall_score(y_test, y_pred_dt, average='macro')\n",
    "f1_dt = f1_score(y_test, y_pred_dt, average='macro')\n",
    "\n",
    "# Calculate evaluation metrics for Random Forest classifier\n",
    "accuracy_rf = accuracy_score(y_test, y_pred_rf)\n",
    "precision_rf = precision_score(y_test, y_pred_rf, average='macro')\n",
    "recall_rf = recall_score(y_test, y_pred_rf, average='macro')\n",
    "f1_rf = f1_score(y_test, y_pred_rf, average='macro')\n",
    "\n",
    "# Calculate evaluation metrics for Naive Bayes classifier\n",
    "accuracy_nb = accuracy_score(y_test, y_pred_nb)\n",
    "precision_nb = precision_score(y_test, y_pred_nb, average='macro')\n",
    "recall_nb = recall_score(y_test, y_pred_nb, average='macro')\n",
    "f1_nb = f1_score(y_test, y_pred_nb, average='macro')\n",
    "\n",
    "# Calculate evaluation metrics for Logistic Regression\n",
    "accuracy_lr = accuracy_score(y_test, y_pred_lr)\n",
    "precision_lr = precision_score(y_test, y_pred_lr, average='macro')\n",
    "recall_lr = recall_score(y_test, y_pred_lr, average='macro')\n",
    "f1_lr = f1_score(y_test, y_pred_lr, average='macro')\n",
    "\n",
    "resume = pd.DataFrame({\n",
    "    'k-NN Classifier': [accuracy_knn, precision_knn, recall_knn, f1_knn],\n",
    "    'Decision Tree Classifier': [accuracy_dt, precision_dt, recall_dt, f1_dt],\n",
    "    'Random Forest Classifier': [accuracy_rf, precision_rf, recall_rf, f1_rf],\n",
    "    'Naive bayes Classifier': [accuracy_nb, precision_nb, recall_nb, f1_nb],\n",
    "    'Logistic Regression': [accuracy_lr, precision_lr, recall_lr, f1_lr],\n",
    "}, index=['Accuracy', 'Precision', 'Recall', 'F1-score'])\n",
    "\n",
    "print(resume)"
   ]
  },
  {
   "cell_type": "markdown",
   "metadata": {},
   "source": [
    "## Generate mockup data\n"
   ]
  },
  {
   "cell_type": "code",
   "execution_count": 83,
   "metadata": {},
   "outputs": [
    {
     "data": {
      "text/plain": [
       "Index(['hour_of_day', 'amount', 'login_frequency', 'session_duration',\n",
       "       'risk_score'],\n",
       "      dtype='object')"
      ]
     },
     "execution_count": 83,
     "metadata": {},
     "output_type": "execute_result"
    }
   ],
   "source": [
    "numeric_columns"
   ]
  },
  {
   "cell_type": "code",
   "execution_count": 98,
   "metadata": {},
   "outputs": [
    {
     "name": "stdout",
     "output_type": "stream",
     "text": [
      "<class 'pandas.core.frame.DataFrame'>\n",
      "RangeIndex: 78600 entries, 0 to 78599\n",
      "Data columns (total 11 columns):\n",
      " #   Column            Non-Null Count  Dtype         \n",
      "---  ------            --------------  -----         \n",
      " 0   timestamp         78600 non-null  datetime64[ns]\n",
      " 1   hour_of_day       78600 non-null  int64         \n",
      " 2   amount            78600 non-null  float64       \n",
      " 3   transaction_type  78600 non-null  int64         \n",
      " 4   location_region   78600 non-null  int64         \n",
      " 5   login_frequency   78600 non-null  int64         \n",
      " 6   session_duration  78600 non-null  int64         \n",
      " 7   purchase_pattern  78600 non-null  int64         \n",
      " 8   age_group         78600 non-null  int64         \n",
      " 9   risk_score        78600 non-null  float64       \n",
      " 10  anomaly           78600 non-null  int64         \n",
      "dtypes: datetime64[ns](1), float64(2), int64(8)\n",
      "memory usage: 6.6 MB\n"
     ]
    }
   ],
   "source": [
    "df_labeled.info()"
   ]
  },
  {
   "cell_type": "code",
   "execution_count": 90,
   "metadata": {},
   "outputs": [
    {
     "data": {
      "text/html": [
       "<div>\n",
       "<style scoped>\n",
       "    .dataframe tbody tr th:only-of-type {\n",
       "        vertical-align: middle;\n",
       "    }\n",
       "\n",
       "    .dataframe tbody tr th {\n",
       "        vertical-align: top;\n",
       "    }\n",
       "\n",
       "    .dataframe thead th {\n",
       "        text-align: right;\n",
       "    }\n",
       "</style>\n",
       "<table border=\"1\" class=\"dataframe\">\n",
       "  <thead>\n",
       "    <tr style=\"text-align: right;\">\n",
       "      <th></th>\n",
       "      <th>timestamp</th>\n",
       "      <th>hour_of_day</th>\n",
       "      <th>amount</th>\n",
       "      <th>transaction_type</th>\n",
       "      <th>location_region</th>\n",
       "      <th>login_frequency</th>\n",
       "      <th>session_duration</th>\n",
       "      <th>purchase_pattern</th>\n",
       "      <th>age_group</th>\n",
       "      <th>risk_score</th>\n",
       "      <th>anomaly</th>\n",
       "    </tr>\n",
       "  </thead>\n",
       "  <tbody>\n",
       "    <tr>\n",
       "      <th>count</th>\n",
       "      <td>78600</td>\n",
       "      <td>78600.000000</td>\n",
       "      <td>78600.000000</td>\n",
       "      <td>78600.000000</td>\n",
       "      <td>78600.000000</td>\n",
       "      <td>78600.000000</td>\n",
       "      <td>78600.000000</td>\n",
       "      <td>78600.000000</td>\n",
       "      <td>78600.000000</td>\n",
       "      <td>78600.000000</td>\n",
       "      <td>78600.000000</td>\n",
       "    </tr>\n",
       "    <tr>\n",
       "      <th>mean</th>\n",
       "      <td>2022-07-02 15:42:18.166437888</td>\n",
       "      <td>11.532634</td>\n",
       "      <td>502.574903</td>\n",
       "      <td>1.234746</td>\n",
       "      <td>1.999860</td>\n",
       "      <td>4.178702</td>\n",
       "      <td>69.684606</td>\n",
       "      <td>0.996476</td>\n",
       "      <td>0.996476</td>\n",
       "      <td>44.956722</td>\n",
       "      <td>0.274822</td>\n",
       "    </tr>\n",
       "    <tr>\n",
       "      <th>min</th>\n",
       "      <td>2022-01-01 00:00:45</td>\n",
       "      <td>0.000000</td>\n",
       "      <td>0.010000</td>\n",
       "      <td>0.000000</td>\n",
       "      <td>0.000000</td>\n",
       "      <td>1.000000</td>\n",
       "      <td>20.000000</td>\n",
       "      <td>0.000000</td>\n",
       "      <td>0.000000</td>\n",
       "      <td>15.000000</td>\n",
       "      <td>0.000000</td>\n",
       "    </tr>\n",
       "    <tr>\n",
       "      <th>25%</th>\n",
       "      <td>2022-04-02 02:37:59.500000</td>\n",
       "      <td>6.000000</td>\n",
       "      <td>331.319966</td>\n",
       "      <td>0.000000</td>\n",
       "      <td>1.000000</td>\n",
       "      <td>2.000000</td>\n",
       "      <td>35.000000</td>\n",
       "      <td>0.000000</td>\n",
       "      <td>0.000000</td>\n",
       "      <td>26.250000</td>\n",
       "      <td>0.000000</td>\n",
       "    </tr>\n",
       "    <tr>\n",
       "      <th>50%</th>\n",
       "      <td>2022-07-02 17:46:33</td>\n",
       "      <td>12.000000</td>\n",
       "      <td>500.029500</td>\n",
       "      <td>1.000000</td>\n",
       "      <td>2.000000</td>\n",
       "      <td>4.000000</td>\n",
       "      <td>60.000000</td>\n",
       "      <td>1.000000</td>\n",
       "      <td>1.000000</td>\n",
       "      <td>40.000000</td>\n",
       "      <td>0.000000</td>\n",
       "    </tr>\n",
       "    <tr>\n",
       "      <th>75%</th>\n",
       "      <td>2022-10-02 09:00:14</td>\n",
       "      <td>18.000000</td>\n",
       "      <td>669.528311</td>\n",
       "      <td>2.000000</td>\n",
       "      <td>3.000000</td>\n",
       "      <td>6.000000</td>\n",
       "      <td>100.000000</td>\n",
       "      <td>2.000000</td>\n",
       "      <td>2.000000</td>\n",
       "      <td>52.500000</td>\n",
       "      <td>0.000000</td>\n",
       "    </tr>\n",
       "    <tr>\n",
       "      <th>max</th>\n",
       "      <td>2022-12-31 23:47:40</td>\n",
       "      <td>23.000000</td>\n",
       "      <td>1557.150905</td>\n",
       "      <td>4.000000</td>\n",
       "      <td>4.000000</td>\n",
       "      <td>8.000000</td>\n",
       "      <td>159.000000</td>\n",
       "      <td>2.000000</td>\n",
       "      <td>2.000000</td>\n",
       "      <td>100.000000</td>\n",
       "      <td>2.000000</td>\n",
       "    </tr>\n",
       "    <tr>\n",
       "      <th>std</th>\n",
       "      <td>NaN</td>\n",
       "      <td>6.935897</td>\n",
       "      <td>245.898146</td>\n",
       "      <td>1.018560</td>\n",
       "      <td>1.414659</td>\n",
       "      <td>2.366038</td>\n",
       "      <td>40.524476</td>\n",
       "      <td>0.817794</td>\n",
       "      <td>0.817794</td>\n",
       "      <td>21.775365</td>\n",
       "      <td>0.603794</td>\n",
       "    </tr>\n",
       "  </tbody>\n",
       "</table>\n",
       "</div>"
      ],
      "text/plain": [
       "                           timestamp   hour_of_day        amount  \\\n",
       "count                          78600  78600.000000  78600.000000   \n",
       "mean   2022-07-02 15:42:18.166437888     11.532634    502.574903   \n",
       "min              2022-01-01 00:00:45      0.000000      0.010000   \n",
       "25%       2022-04-02 02:37:59.500000      6.000000    331.319966   \n",
       "50%              2022-07-02 17:46:33     12.000000    500.029500   \n",
       "75%              2022-10-02 09:00:14     18.000000    669.528311   \n",
       "max              2022-12-31 23:47:40     23.000000   1557.150905   \n",
       "std                              NaN      6.935897    245.898146   \n",
       "\n",
       "       transaction_type  location_region  login_frequency  session_duration  \\\n",
       "count      78600.000000     78600.000000     78600.000000      78600.000000   \n",
       "mean           1.234746         1.999860         4.178702         69.684606   \n",
       "min            0.000000         0.000000         1.000000         20.000000   \n",
       "25%            0.000000         1.000000         2.000000         35.000000   \n",
       "50%            1.000000         2.000000         4.000000         60.000000   \n",
       "75%            2.000000         3.000000         6.000000        100.000000   \n",
       "max            4.000000         4.000000         8.000000        159.000000   \n",
       "std            1.018560         1.414659         2.366038         40.524476   \n",
       "\n",
       "       purchase_pattern     age_group    risk_score       anomaly  \n",
       "count      78600.000000  78600.000000  78600.000000  78600.000000  \n",
       "mean           0.996476      0.996476     44.956722      0.274822  \n",
       "min            0.000000      0.000000     15.000000      0.000000  \n",
       "25%            0.000000      0.000000     26.250000      0.000000  \n",
       "50%            1.000000      1.000000     40.000000      0.000000  \n",
       "75%            2.000000      2.000000     52.500000      0.000000  \n",
       "max            2.000000      2.000000    100.000000      2.000000  \n",
       "std            0.817794      0.817794     21.775365      0.603794  "
      ]
     },
     "execution_count": 90,
     "metadata": {},
     "output_type": "execute_result"
    }
   ],
   "source": [
    "df_labeled.describe()"
   ]
  },
  {
   "cell_type": "code",
   "execution_count": 243,
   "metadata": {},
   "outputs": [
    {
     "data": {
      "text/html": [
       "<div>\n",
       "<style scoped>\n",
       "    .dataframe tbody tr th:only-of-type {\n",
       "        vertical-align: middle;\n",
       "    }\n",
       "\n",
       "    .dataframe tbody tr th {\n",
       "        vertical-align: top;\n",
       "    }\n",
       "\n",
       "    .dataframe thead th {\n",
       "        text-align: right;\n",
       "    }\n",
       "</style>\n",
       "<table border=\"1\" class=\"dataframe\">\n",
       "  <thead>\n",
       "    <tr style=\"text-align: right;\">\n",
       "      <th></th>\n",
       "      <th>timestamp</th>\n",
       "      <th>hour_of_day</th>\n",
       "      <th>amount</th>\n",
       "      <th>transaction_type</th>\n",
       "      <th>location_region</th>\n",
       "      <th>login_frequency</th>\n",
       "      <th>session_duration</th>\n",
       "      <th>purchase_pattern</th>\n",
       "      <th>age_group</th>\n",
       "      <th>risk_score</th>\n",
       "      <th>anomaly</th>\n",
       "    </tr>\n",
       "  </thead>\n",
       "  <tbody>\n",
       "    <tr>\n",
       "      <th>timestamp</th>\n",
       "      <td>1.00</td>\n",
       "      <td>0.01</td>\n",
       "      <td>0.00</td>\n",
       "      <td>-0.00</td>\n",
       "      <td>0.01</td>\n",
       "      <td>0.00</td>\n",
       "      <td>0.00</td>\n",
       "      <td>0.00</td>\n",
       "      <td>0.00</td>\n",
       "      <td>-0.00</td>\n",
       "      <td>-0.01</td>\n",
       "    </tr>\n",
       "    <tr>\n",
       "      <th>hour_of_day</th>\n",
       "      <td>0.01</td>\n",
       "      <td>1.00</td>\n",
       "      <td>0.00</td>\n",
       "      <td>0.00</td>\n",
       "      <td>-0.00</td>\n",
       "      <td>0.00</td>\n",
       "      <td>0.01</td>\n",
       "      <td>-0.00</td>\n",
       "      <td>-0.00</td>\n",
       "      <td>-0.19</td>\n",
       "      <td>-0.11</td>\n",
       "    </tr>\n",
       "    <tr>\n",
       "      <th>amount</th>\n",
       "      <td>0.00</td>\n",
       "      <td>0.00</td>\n",
       "      <td>1.00</td>\n",
       "      <td>-0.00</td>\n",
       "      <td>-0.00</td>\n",
       "      <td>-0.00</td>\n",
       "      <td>0.00</td>\n",
       "      <td>0.00</td>\n",
       "      <td>0.00</td>\n",
       "      <td>0.11</td>\n",
       "      <td>0.08</td>\n",
       "    </tr>\n",
       "    <tr>\n",
       "      <th>transaction_type</th>\n",
       "      <td>-0.00</td>\n",
       "      <td>0.00</td>\n",
       "      <td>-0.00</td>\n",
       "      <td>1.00</td>\n",
       "      <td>-0.01</td>\n",
       "      <td>-0.05</td>\n",
       "      <td>-0.00</td>\n",
       "      <td>0.07</td>\n",
       "      <td>0.07</td>\n",
       "      <td>0.83</td>\n",
       "      <td>0.72</td>\n",
       "    </tr>\n",
       "    <tr>\n",
       "      <th>location_region</th>\n",
       "      <td>0.01</td>\n",
       "      <td>-0.00</td>\n",
       "      <td>-0.00</td>\n",
       "      <td>-0.01</td>\n",
       "      <td>1.00</td>\n",
       "      <td>-0.00</td>\n",
       "      <td>-0.00</td>\n",
       "      <td>0.00</td>\n",
       "      <td>0.00</td>\n",
       "      <td>-0.01</td>\n",
       "      <td>-0.01</td>\n",
       "    </tr>\n",
       "    <tr>\n",
       "      <th>login_frequency</th>\n",
       "      <td>0.00</td>\n",
       "      <td>0.00</td>\n",
       "      <td>-0.00</td>\n",
       "      <td>-0.05</td>\n",
       "      <td>-0.00</td>\n",
       "      <td>1.00</td>\n",
       "      <td>0.87</td>\n",
       "      <td>-0.95</td>\n",
       "      <td>-0.95</td>\n",
       "      <td>0.03</td>\n",
       "      <td>-0.11</td>\n",
       "    </tr>\n",
       "    <tr>\n",
       "      <th>session_duration</th>\n",
       "      <td>0.00</td>\n",
       "      <td>0.01</td>\n",
       "      <td>0.00</td>\n",
       "      <td>-0.00</td>\n",
       "      <td>-0.00</td>\n",
       "      <td>0.87</td>\n",
       "      <td>1.00</td>\n",
       "      <td>-0.91</td>\n",
       "      <td>-0.91</td>\n",
       "      <td>0.11</td>\n",
       "      <td>-0.07</td>\n",
       "    </tr>\n",
       "    <tr>\n",
       "      <th>purchase_pattern</th>\n",
       "      <td>0.00</td>\n",
       "      <td>-0.00</td>\n",
       "      <td>0.00</td>\n",
       "      <td>0.07</td>\n",
       "      <td>0.00</td>\n",
       "      <td>-0.95</td>\n",
       "      <td>-0.91</td>\n",
       "      <td>1.00</td>\n",
       "      <td>1.00</td>\n",
       "      <td>-0.00</td>\n",
       "      <td>0.14</td>\n",
       "    </tr>\n",
       "    <tr>\n",
       "      <th>age_group</th>\n",
       "      <td>0.00</td>\n",
       "      <td>-0.00</td>\n",
       "      <td>0.00</td>\n",
       "      <td>0.07</td>\n",
       "      <td>0.00</td>\n",
       "      <td>-0.95</td>\n",
       "      <td>-0.91</td>\n",
       "      <td>1.00</td>\n",
       "      <td>1.00</td>\n",
       "      <td>-0.00</td>\n",
       "      <td>0.14</td>\n",
       "    </tr>\n",
       "    <tr>\n",
       "      <th>risk_score</th>\n",
       "      <td>-0.00</td>\n",
       "      <td>-0.19</td>\n",
       "      <td>0.11</td>\n",
       "      <td>0.83</td>\n",
       "      <td>-0.01</td>\n",
       "      <td>0.03</td>\n",
       "      <td>0.11</td>\n",
       "      <td>-0.00</td>\n",
       "      <td>-0.00</td>\n",
       "      <td>1.00</td>\n",
       "      <td>0.86</td>\n",
       "    </tr>\n",
       "    <tr>\n",
       "      <th>anomaly</th>\n",
       "      <td>-0.01</td>\n",
       "      <td>-0.11</td>\n",
       "      <td>0.08</td>\n",
       "      <td>0.72</td>\n",
       "      <td>-0.01</td>\n",
       "      <td>-0.11</td>\n",
       "      <td>-0.07</td>\n",
       "      <td>0.14</td>\n",
       "      <td>0.14</td>\n",
       "      <td>0.86</td>\n",
       "      <td>1.00</td>\n",
       "    </tr>\n",
       "  </tbody>\n",
       "</table>\n",
       "</div>"
      ],
      "text/plain": [
       "                  timestamp  hour_of_day  amount  transaction_type  \\\n",
       "timestamp              1.00         0.01    0.00             -0.00   \n",
       "hour_of_day            0.01         1.00    0.00              0.00   \n",
       "amount                 0.00         0.00    1.00             -0.00   \n",
       "transaction_type      -0.00         0.00   -0.00              1.00   \n",
       "location_region        0.01        -0.00   -0.00             -0.01   \n",
       "login_frequency        0.00         0.00   -0.00             -0.05   \n",
       "session_duration       0.00         0.01    0.00             -0.00   \n",
       "purchase_pattern       0.00        -0.00    0.00              0.07   \n",
       "age_group              0.00        -0.00    0.00              0.07   \n",
       "risk_score            -0.00        -0.19    0.11              0.83   \n",
       "anomaly               -0.01        -0.11    0.08              0.72   \n",
       "\n",
       "                  location_region  login_frequency  session_duration  \\\n",
       "timestamp                    0.01             0.00              0.00   \n",
       "hour_of_day                 -0.00             0.00              0.01   \n",
       "amount                      -0.00            -0.00              0.00   \n",
       "transaction_type            -0.01            -0.05             -0.00   \n",
       "location_region              1.00            -0.00             -0.00   \n",
       "login_frequency             -0.00             1.00              0.87   \n",
       "session_duration            -0.00             0.87              1.00   \n",
       "purchase_pattern             0.00            -0.95             -0.91   \n",
       "age_group                    0.00            -0.95             -0.91   \n",
       "risk_score                  -0.01             0.03              0.11   \n",
       "anomaly                     -0.01            -0.11             -0.07   \n",
       "\n",
       "                  purchase_pattern  age_group  risk_score  anomaly  \n",
       "timestamp                     0.00       0.00       -0.00    -0.01  \n",
       "hour_of_day                  -0.00      -0.00       -0.19    -0.11  \n",
       "amount                        0.00       0.00        0.11     0.08  \n",
       "transaction_type              0.07       0.07        0.83     0.72  \n",
       "location_region               0.00       0.00       -0.01    -0.01  \n",
       "login_frequency              -0.95      -0.95        0.03    -0.11  \n",
       "session_duration             -0.91      -0.91        0.11    -0.07  \n",
       "purchase_pattern              1.00       1.00       -0.00     0.14  \n",
       "age_group                     1.00       1.00       -0.00     0.14  \n",
       "risk_score                   -0.00      -0.00        1.00     0.86  \n",
       "anomaly                       0.14       0.14        0.86     1.00  "
      ]
     },
     "execution_count": 243,
     "metadata": {},
     "output_type": "execute_result"
    }
   ],
   "source": [
    "corr"
   ]
  },
  {
   "cell_type": "code",
   "execution_count": 248,
   "metadata": {},
   "outputs": [],
   "source": [
    "# drop time stamp row\n",
    "mock_corr = corr.drop('timestamp')"
   ]
  },
  {
   "cell_type": "code",
   "execution_count": 250,
   "metadata": {},
   "outputs": [],
   "source": [
    "# drop timestamp column\n",
    "mock_corr = mock_corr.drop(columns='timestamp')"
   ]
  },
  {
   "cell_type": "code",
   "execution_count": 251,
   "metadata": {},
   "outputs": [
    {
     "data": {
      "text/html": [
       "<div>\n",
       "<style scoped>\n",
       "    .dataframe tbody tr th:only-of-type {\n",
       "        vertical-align: middle;\n",
       "    }\n",
       "\n",
       "    .dataframe tbody tr th {\n",
       "        vertical-align: top;\n",
       "    }\n",
       "\n",
       "    .dataframe thead th {\n",
       "        text-align: right;\n",
       "    }\n",
       "</style>\n",
       "<table border=\"1\" class=\"dataframe\">\n",
       "  <thead>\n",
       "    <tr style=\"text-align: right;\">\n",
       "      <th></th>\n",
       "      <th>hour_of_day</th>\n",
       "      <th>amount</th>\n",
       "      <th>transaction_type</th>\n",
       "      <th>location_region</th>\n",
       "      <th>login_frequency</th>\n",
       "      <th>session_duration</th>\n",
       "      <th>purchase_pattern</th>\n",
       "      <th>age_group</th>\n",
       "      <th>risk_score</th>\n",
       "      <th>anomaly</th>\n",
       "    </tr>\n",
       "  </thead>\n",
       "  <tbody>\n",
       "    <tr>\n",
       "      <th>hour_of_day</th>\n",
       "      <td>1.00</td>\n",
       "      <td>0.00</td>\n",
       "      <td>0.00</td>\n",
       "      <td>-0.00</td>\n",
       "      <td>0.00</td>\n",
       "      <td>0.01</td>\n",
       "      <td>-0.00</td>\n",
       "      <td>-0.00</td>\n",
       "      <td>-0.19</td>\n",
       "      <td>-0.11</td>\n",
       "    </tr>\n",
       "    <tr>\n",
       "      <th>amount</th>\n",
       "      <td>0.00</td>\n",
       "      <td>1.00</td>\n",
       "      <td>-0.00</td>\n",
       "      <td>-0.00</td>\n",
       "      <td>-0.00</td>\n",
       "      <td>0.00</td>\n",
       "      <td>0.00</td>\n",
       "      <td>0.00</td>\n",
       "      <td>0.11</td>\n",
       "      <td>0.08</td>\n",
       "    </tr>\n",
       "    <tr>\n",
       "      <th>transaction_type</th>\n",
       "      <td>0.00</td>\n",
       "      <td>-0.00</td>\n",
       "      <td>1.00</td>\n",
       "      <td>-0.01</td>\n",
       "      <td>-0.05</td>\n",
       "      <td>-0.00</td>\n",
       "      <td>0.07</td>\n",
       "      <td>0.07</td>\n",
       "      <td>0.83</td>\n",
       "      <td>0.72</td>\n",
       "    </tr>\n",
       "    <tr>\n",
       "      <th>location_region</th>\n",
       "      <td>-0.00</td>\n",
       "      <td>-0.00</td>\n",
       "      <td>-0.01</td>\n",
       "      <td>1.00</td>\n",
       "      <td>-0.00</td>\n",
       "      <td>-0.00</td>\n",
       "      <td>0.00</td>\n",
       "      <td>0.00</td>\n",
       "      <td>-0.01</td>\n",
       "      <td>-0.01</td>\n",
       "    </tr>\n",
       "    <tr>\n",
       "      <th>login_frequency</th>\n",
       "      <td>0.00</td>\n",
       "      <td>-0.00</td>\n",
       "      <td>-0.05</td>\n",
       "      <td>-0.00</td>\n",
       "      <td>1.00</td>\n",
       "      <td>0.87</td>\n",
       "      <td>-0.95</td>\n",
       "      <td>-0.95</td>\n",
       "      <td>0.03</td>\n",
       "      <td>-0.11</td>\n",
       "    </tr>\n",
       "    <tr>\n",
       "      <th>session_duration</th>\n",
       "      <td>0.01</td>\n",
       "      <td>0.00</td>\n",
       "      <td>-0.00</td>\n",
       "      <td>-0.00</td>\n",
       "      <td>0.87</td>\n",
       "      <td>1.00</td>\n",
       "      <td>-0.91</td>\n",
       "      <td>-0.91</td>\n",
       "      <td>0.11</td>\n",
       "      <td>-0.07</td>\n",
       "    </tr>\n",
       "    <tr>\n",
       "      <th>purchase_pattern</th>\n",
       "      <td>-0.00</td>\n",
       "      <td>0.00</td>\n",
       "      <td>0.07</td>\n",
       "      <td>0.00</td>\n",
       "      <td>-0.95</td>\n",
       "      <td>-0.91</td>\n",
       "      <td>1.00</td>\n",
       "      <td>1.00</td>\n",
       "      <td>-0.00</td>\n",
       "      <td>0.14</td>\n",
       "    </tr>\n",
       "    <tr>\n",
       "      <th>age_group</th>\n",
       "      <td>-0.00</td>\n",
       "      <td>0.00</td>\n",
       "      <td>0.07</td>\n",
       "      <td>0.00</td>\n",
       "      <td>-0.95</td>\n",
       "      <td>-0.91</td>\n",
       "      <td>1.00</td>\n",
       "      <td>1.00</td>\n",
       "      <td>-0.00</td>\n",
       "      <td>0.14</td>\n",
       "    </tr>\n",
       "    <tr>\n",
       "      <th>risk_score</th>\n",
       "      <td>-0.19</td>\n",
       "      <td>0.11</td>\n",
       "      <td>0.83</td>\n",
       "      <td>-0.01</td>\n",
       "      <td>0.03</td>\n",
       "      <td>0.11</td>\n",
       "      <td>-0.00</td>\n",
       "      <td>-0.00</td>\n",
       "      <td>1.00</td>\n",
       "      <td>0.86</td>\n",
       "    </tr>\n",
       "    <tr>\n",
       "      <th>anomaly</th>\n",
       "      <td>-0.11</td>\n",
       "      <td>0.08</td>\n",
       "      <td>0.72</td>\n",
       "      <td>-0.01</td>\n",
       "      <td>-0.11</td>\n",
       "      <td>-0.07</td>\n",
       "      <td>0.14</td>\n",
       "      <td>0.14</td>\n",
       "      <td>0.86</td>\n",
       "      <td>1.00</td>\n",
       "    </tr>\n",
       "  </tbody>\n",
       "</table>\n",
       "</div>"
      ],
      "text/plain": [
       "                  hour_of_day  amount  transaction_type  location_region  \\\n",
       "hour_of_day              1.00    0.00              0.00            -0.00   \n",
       "amount                   0.00    1.00             -0.00            -0.00   \n",
       "transaction_type         0.00   -0.00              1.00            -0.01   \n",
       "location_region         -0.00   -0.00             -0.01             1.00   \n",
       "login_frequency          0.00   -0.00             -0.05            -0.00   \n",
       "session_duration         0.01    0.00             -0.00            -0.00   \n",
       "purchase_pattern        -0.00    0.00              0.07             0.00   \n",
       "age_group               -0.00    0.00              0.07             0.00   \n",
       "risk_score              -0.19    0.11              0.83            -0.01   \n",
       "anomaly                 -0.11    0.08              0.72            -0.01   \n",
       "\n",
       "                  login_frequency  session_duration  purchase_pattern  \\\n",
       "hour_of_day                  0.00              0.01             -0.00   \n",
       "amount                      -0.00              0.00              0.00   \n",
       "transaction_type            -0.05             -0.00              0.07   \n",
       "location_region             -0.00             -0.00              0.00   \n",
       "login_frequency              1.00              0.87             -0.95   \n",
       "session_duration             0.87              1.00             -0.91   \n",
       "purchase_pattern            -0.95             -0.91              1.00   \n",
       "age_group                   -0.95             -0.91              1.00   \n",
       "risk_score                   0.03              0.11             -0.00   \n",
       "anomaly                     -0.11             -0.07              0.14   \n",
       "\n",
       "                  age_group  risk_score  anomaly  \n",
       "hour_of_day           -0.00       -0.19    -0.11  \n",
       "amount                 0.00        0.11     0.08  \n",
       "transaction_type       0.07        0.83     0.72  \n",
       "location_region        0.00       -0.01    -0.01  \n",
       "login_frequency       -0.95        0.03    -0.11  \n",
       "session_duration      -0.91        0.11    -0.07  \n",
       "purchase_pattern       1.00       -0.00     0.14  \n",
       "age_group              1.00       -0.00     0.14  \n",
       "risk_score            -0.00        1.00     0.86  \n",
       "anomaly                0.14        0.86     1.00  "
      ]
     },
     "execution_count": 251,
     "metadata": {},
     "output_type": "execute_result"
    }
   ],
   "source": [
    "# Check mock up correation\n",
    "mock_corr"
   ]
  },
  {
   "cell_type": "code",
   "execution_count": 258,
   "metadata": {},
   "outputs": [],
   "source": [
    "mock_corr_array = np.array(mock_corr)"
   ]
  },
  {
   "cell_type": "code",
   "execution_count": 259,
   "metadata": {},
   "outputs": [
    {
     "data": {
      "text/plain": [
       "array([[ 1.  ,  0.  ,  0.  , -0.  ,  0.  ,  0.01, -0.  , -0.  , -0.19,\n",
       "        -0.11],\n",
       "       [ 0.  ,  1.  , -0.  , -0.  , -0.  ,  0.  ,  0.  ,  0.  ,  0.11,\n",
       "         0.08],\n",
       "       [ 0.  , -0.  ,  1.  , -0.01, -0.05, -0.  ,  0.07,  0.07,  0.83,\n",
       "         0.72],\n",
       "       [-0.  , -0.  , -0.01,  1.  , -0.  , -0.  ,  0.  ,  0.  , -0.01,\n",
       "        -0.01],\n",
       "       [ 0.  , -0.  , -0.05, -0.  ,  1.  ,  0.87, -0.95, -0.95,  0.03,\n",
       "        -0.11],\n",
       "       [ 0.01,  0.  , -0.  , -0.  ,  0.87,  1.  , -0.91, -0.91,  0.11,\n",
       "        -0.07],\n",
       "       [-0.  ,  0.  ,  0.07,  0.  , -0.95, -0.91,  1.  ,  1.  , -0.  ,\n",
       "         0.14],\n",
       "       [-0.  ,  0.  ,  0.07,  0.  , -0.95, -0.91,  1.  ,  1.  , -0.  ,\n",
       "         0.14],\n",
       "       [-0.19,  0.11,  0.83, -0.01,  0.03,  0.11, -0.  , -0.  ,  1.  ,\n",
       "         0.86],\n",
       "       [-0.11,  0.08,  0.72, -0.01, -0.11, -0.07,  0.14,  0.14,  0.86,\n",
       "         1.  ]])"
      ]
     },
     "execution_count": 259,
     "metadata": {},
     "output_type": "execute_result"
    }
   ],
   "source": [
    "mock_corr_array"
   ]
  },
  {
   "cell_type": "code",
   "execution_count": 253,
   "metadata": {},
   "outputs": [
    {
     "data": {
      "text/plain": [
       "<NumpyExtensionArray>\n",
       "[Timestamp('2022-07-02 15:42:18.166437888'),\n",
       "                          11.53263358778626,\n",
       "                         502.57490270978695,\n",
       "                         1.2347455470737914,\n",
       "                         1.9998600508905853,\n",
       "                          4.178702290076336,\n",
       "                          69.68460559796438,\n",
       "                         0.9964758269720102,\n",
       "                         0.9964758269720102,\n",
       "                          44.95672248727736,\n",
       "                        0.27482188295165394]\n",
       "Length: 11, dtype: object"
      ]
     },
     "execution_count": 253,
     "metadata": {},
     "output_type": "execute_result"
    }
   ],
   "source": [
    "df_labeled.mean().array"
   ]
  },
  {
   "cell_type": "code",
   "execution_count": 254,
   "metadata": {},
   "outputs": [
    {
     "data": {
      "text/plain": [
       "<NumpyExtensionArray>\n",
       "[Timedelta('105 days 13:57:10.261123210'),\n",
       "                         6.93589733019824,\n",
       "                       245.89814591282143,\n",
       "                       1.0185602482607046,\n",
       "                        1.414658806364368,\n",
       "                        2.366038189597851,\n",
       "                        40.52447562593376,\n",
       "                       0.8177942513559266,\n",
       "                       0.8177942513559266,\n",
       "                       21.775365232177016,\n",
       "                       0.6037935321182816]\n",
       "Length: 11, dtype: object"
      ]
     },
     "execution_count": 254,
     "metadata": {},
     "output_type": "execute_result"
    }
   ],
   "source": [
    "df_labeled.std().array"
   ]
  },
  {
   "cell_type": "code",
   "execution_count": 255,
   "metadata": {},
   "outputs": [
    {
     "data": {
      "text/plain": [
       "<NumpyExtensionArray>\n",
       "[Timestamp('2022-01-01 00:00:45'), 0, 0.01, 0, 0, 1, 20, 0, 0, 15.0, 0]\n",
       "Length: 11, dtype: object"
      ]
     },
     "execution_count": 255,
     "metadata": {},
     "output_type": "execute_result"
    }
   ],
   "source": [
    "df_labeled.min().array"
   ]
  },
  {
   "cell_type": "code",
   "execution_count": 256,
   "metadata": {},
   "outputs": [
    {
     "data": {
      "text/plain": [
       "<NumpyExtensionArray>\n",
       "[Timestamp('2022-12-31 23:47:40'),                               23,\n",
       "                1557.150905156049,                                4,\n",
       "                                4,                                8,\n",
       "                              159,                                2,\n",
       "                                2,                            100.0,\n",
       "                                2]\n",
       "Length: 11, dtype: object"
      ]
     },
     "execution_count": 256,
     "metadata": {},
     "output_type": "execute_result"
    }
   ],
   "source": [
    "df_labeled.max().array"
   ]
  },
  {
   "cell_type": "code",
   "execution_count": 260,
   "metadata": {},
   "outputs": [],
   "source": [
    "# Define the number of variables and samples\n",
    "num_vars = 10\n",
    "num_samples = 5000\n",
    "\n",
    "# Means and standard deviations\n",
    "means = [11.53263358778626,\n",
    "                         502.57490270978695,\n",
    "                         1.2347455470737914,\n",
    "                         1.9998600508905853,\n",
    "                          4.178702290076336,\n",
    "                          69.68460559796438,\n",
    "                         0.9964758269720102,\n",
    "                         0.9964758269720102,\n",
    "                          44.95672248727736,\n",
    "                        0.27482188295165394]\n",
    "std_devs = [6.93589733019824,\n",
    "                       245.89814591282143,\n",
    "                       1.0185602482607046,\n",
    "                        1.414658806364368,\n",
    "                        2.366038189597851,\n",
    "                        40.52447562593376,\n",
    "                       0.8177942513559266,\n",
    "                       0.8177942513559266,\n",
    "                       21.775365232177016,\n",
    "                       0.6037935321182816]\n",
    "\n",
    "# Minimum and maximum values\n",
    "min_vals = [0, 0.01, 0, 0, 1, 20, 0, 0, 15.0, 0]\n",
    "max_vals = [23, 1557.150905156049, 4, 4, 8, 159, 2, 2, 100.0, 2]\n",
    "\n",
    "# Example Correlation Matrix\n",
    "R = np.array(mock_corr)"
   ]
  },
  {
   "cell_type": "code",
   "execution_count": 261,
   "metadata": {},
   "outputs": [],
   "source": [
    "# Convert correlation matrix to covariance matrix\n",
    "covariance_matrix = np.array([[R[i, j] * std_devs[i] * std_devs[j] for j in range(num_vars)] for i in range(num_vars)])\n",
    "\n",
    "# Generate multivariate normal data\n",
    "mock_data = np.random.multivariate_normal(means, covariance_matrix, size=num_samples)"
   ]
  },
  {
   "cell_type": "code",
   "execution_count": 264,
   "metadata": {},
   "outputs": [],
   "source": [
    "for i in range(num_vars):\n",
    "    mock_data[:, i] = np.clip(mock_data[:, i], min_vals[i], max_vals[i])"
   ]
  },
  {
   "cell_type": "code",
   "execution_count": 265,
   "metadata": {},
   "outputs": [
    {
     "data": {
      "text/plain": [
       "Index(['timestamp', 'hour_of_day', 'amount', 'transaction_type',\n",
       "       'location_region', 'login_frequency', 'session_duration',\n",
       "       'purchase_pattern', 'age_group', 'risk_score', 'anomaly'],\n",
       "      dtype='object')"
      ]
     },
     "execution_count": 265,
     "metadata": {},
     "output_type": "execute_result"
    }
   ],
   "source": [
    "df_labeled.columns"
   ]
  },
  {
   "cell_type": "code",
   "execution_count": 283,
   "metadata": {},
   "outputs": [],
   "source": [
    "mock_column_names = ['hour_of_day', 'amount', 'transaction_type',\n",
    "       'location_region', 'login_frequency', 'session_duration',\n",
    "       'purchase_pattern', 'age_group', 'risk_score', 'anomaly']\n",
    "mock_df = pd.DataFrame(mock_data, columns=mock_column_names)"
   ]
  },
  {
   "cell_type": "code",
   "execution_count": 284,
   "metadata": {},
   "outputs": [
    {
     "data": {
      "text/html": [
       "<div>\n",
       "<style scoped>\n",
       "    .dataframe tbody tr th:only-of-type {\n",
       "        vertical-align: middle;\n",
       "    }\n",
       "\n",
       "    .dataframe tbody tr th {\n",
       "        vertical-align: top;\n",
       "    }\n",
       "\n",
       "    .dataframe thead th {\n",
       "        text-align: right;\n",
       "    }\n",
       "</style>\n",
       "<table border=\"1\" class=\"dataframe\">\n",
       "  <thead>\n",
       "    <tr style=\"text-align: right;\">\n",
       "      <th></th>\n",
       "      <th>hour_of_day</th>\n",
       "      <th>amount</th>\n",
       "      <th>transaction_type</th>\n",
       "      <th>location_region</th>\n",
       "      <th>login_frequency</th>\n",
       "      <th>session_duration</th>\n",
       "      <th>purchase_pattern</th>\n",
       "      <th>age_group</th>\n",
       "      <th>risk_score</th>\n",
       "      <th>anomaly</th>\n",
       "    </tr>\n",
       "  </thead>\n",
       "  <tbody>\n",
       "    <tr>\n",
       "      <th>count</th>\n",
       "      <td>5000.000000</td>\n",
       "      <td>5000.000000</td>\n",
       "      <td>5000.000000</td>\n",
       "      <td>5000.000000</td>\n",
       "      <td>5000.000000</td>\n",
       "      <td>5000.000000</td>\n",
       "      <td>5000.000000</td>\n",
       "      <td>5000.000000</td>\n",
       "      <td>5000.000000</td>\n",
       "      <td>5000.000000</td>\n",
       "    </tr>\n",
       "    <tr>\n",
       "      <th>mean</th>\n",
       "      <td>11.555814</td>\n",
       "      <td>493.214171</td>\n",
       "      <td>1.274108</td>\n",
       "      <td>2.030320</td>\n",
       "      <td>4.269494</td>\n",
       "      <td>72.291315</td>\n",
       "      <td>0.981502</td>\n",
       "      <td>0.981502</td>\n",
       "      <td>45.268986</td>\n",
       "      <td>0.397364</td>\n",
       "    </tr>\n",
       "    <tr>\n",
       "      <th>std</th>\n",
       "      <td>6.362399</td>\n",
       "      <td>243.191892</td>\n",
       "      <td>0.919248</td>\n",
       "      <td>1.207785</td>\n",
       "      <td>2.062976</td>\n",
       "      <td>36.320252</td>\n",
       "      <td>0.654630</td>\n",
       "      <td>0.654630</td>\n",
       "      <td>20.085169</td>\n",
       "      <td>0.442086</td>\n",
       "    </tr>\n",
       "    <tr>\n",
       "      <th>min</th>\n",
       "      <td>0.000000</td>\n",
       "      <td>0.010000</td>\n",
       "      <td>0.000000</td>\n",
       "      <td>0.000000</td>\n",
       "      <td>1.000000</td>\n",
       "      <td>20.000000</td>\n",
       "      <td>0.000000</td>\n",
       "      <td>0.000000</td>\n",
       "      <td>15.000000</td>\n",
       "      <td>0.000000</td>\n",
       "    </tr>\n",
       "    <tr>\n",
       "      <th>25%</th>\n",
       "      <td>6.935094</td>\n",
       "      <td>326.429037</td>\n",
       "      <td>0.537107</td>\n",
       "      <td>1.110382</td>\n",
       "      <td>2.634808</td>\n",
       "      <td>42.944088</td>\n",
       "      <td>0.431823</td>\n",
       "      <td>0.431823</td>\n",
       "      <td>29.633625</td>\n",
       "      <td>0.000000</td>\n",
       "    </tr>\n",
       "    <tr>\n",
       "      <th>50%</th>\n",
       "      <td>11.562075</td>\n",
       "      <td>489.350287</td>\n",
       "      <td>1.208419</td>\n",
       "      <td>2.056780</td>\n",
       "      <td>4.252997</td>\n",
       "      <td>70.404870</td>\n",
       "      <td>0.980355</td>\n",
       "      <td>0.980355</td>\n",
       "      <td>44.361926</td>\n",
       "      <td>0.254988</td>\n",
       "    </tr>\n",
       "    <tr>\n",
       "      <th>75%</th>\n",
       "      <td>16.266807</td>\n",
       "      <td>659.116991</td>\n",
       "      <td>1.923237</td>\n",
       "      <td>2.966327</td>\n",
       "      <td>5.800761</td>\n",
       "      <td>98.181008</td>\n",
       "      <td>1.517222</td>\n",
       "      <td>1.517222</td>\n",
       "      <td>59.425149</td>\n",
       "      <td>0.681105</td>\n",
       "    </tr>\n",
       "    <tr>\n",
       "      <th>max</th>\n",
       "      <td>23.000000</td>\n",
       "      <td>1418.231387</td>\n",
       "      <td>4.000000</td>\n",
       "      <td>4.000000</td>\n",
       "      <td>8.000000</td>\n",
       "      <td>159.000000</td>\n",
       "      <td>2.000000</td>\n",
       "      <td>2.000000</td>\n",
       "      <td>100.000000</td>\n",
       "      <td>2.000000</td>\n",
       "    </tr>\n",
       "  </tbody>\n",
       "</table>\n",
       "</div>"
      ],
      "text/plain": [
       "       hour_of_day       amount  transaction_type  location_region  \\\n",
       "count  5000.000000  5000.000000       5000.000000      5000.000000   \n",
       "mean     11.555814   493.214171          1.274108         2.030320   \n",
       "std       6.362399   243.191892          0.919248         1.207785   \n",
       "min       0.000000     0.010000          0.000000         0.000000   \n",
       "25%       6.935094   326.429037          0.537107         1.110382   \n",
       "50%      11.562075   489.350287          1.208419         2.056780   \n",
       "75%      16.266807   659.116991          1.923237         2.966327   \n",
       "max      23.000000  1418.231387          4.000000         4.000000   \n",
       "\n",
       "       login_frequency  session_duration  purchase_pattern    age_group  \\\n",
       "count      5000.000000       5000.000000       5000.000000  5000.000000   \n",
       "mean          4.269494         72.291315          0.981502     0.981502   \n",
       "std           2.062976         36.320252          0.654630     0.654630   \n",
       "min           1.000000         20.000000          0.000000     0.000000   \n",
       "25%           2.634808         42.944088          0.431823     0.431823   \n",
       "50%           4.252997         70.404870          0.980355     0.980355   \n",
       "75%           5.800761         98.181008          1.517222     1.517222   \n",
       "max           8.000000        159.000000          2.000000     2.000000   \n",
       "\n",
       "        risk_score      anomaly  \n",
       "count  5000.000000  5000.000000  \n",
       "mean     45.268986     0.397364  \n",
       "std      20.085169     0.442086  \n",
       "min      15.000000     0.000000  \n",
       "25%      29.633625     0.000000  \n",
       "50%      44.361926     0.254988  \n",
       "75%      59.425149     0.681105  \n",
       "max     100.000000     2.000000  "
      ]
     },
     "execution_count": 284,
     "metadata": {},
     "output_type": "execute_result"
    }
   ],
   "source": [
    "mock_df.describe()"
   ]
  },
  {
   "cell_type": "code",
   "execution_count": 285,
   "metadata": {},
   "outputs": [
    {
     "name": "stdout",
     "output_type": "stream",
     "text": [
      "<class 'pandas.core.frame.DataFrame'>\n",
      "RangeIndex: 5000 entries, 0 to 4999\n",
      "Data columns (total 10 columns):\n",
      " #   Column            Non-Null Count  Dtype  \n",
      "---  ------            --------------  -----  \n",
      " 0   hour_of_day       5000 non-null   float64\n",
      " 1   amount            5000 non-null   float64\n",
      " 2   transaction_type  5000 non-null   float64\n",
      " 3   location_region   5000 non-null   float64\n",
      " 4   login_frequency   5000 non-null   float64\n",
      " 5   session_duration  5000 non-null   float64\n",
      " 6   purchase_pattern  5000 non-null   float64\n",
      " 7   age_group         5000 non-null   float64\n",
      " 8   risk_score        5000 non-null   float64\n",
      " 9   anomaly           5000 non-null   float64\n",
      "dtypes: float64(10)\n",
      "memory usage: 390.8 KB\n"
     ]
    }
   ],
   "source": [
    "mock_df.info()"
   ]
  },
  {
   "cell_type": "code",
   "execution_count": 286,
   "metadata": {},
   "outputs": [
    {
     "data": {
      "text/plain": [
       "Index(['hour_of_day', 'transaction_type', 'location_region', 'login_frequency',\n",
       "       'session_duration', 'purchase_pattern', 'age_group', 'anomaly'],\n",
       "      dtype='object')"
      ]
     },
     "execution_count": 286,
     "metadata": {},
     "output_type": "execute_result"
    }
   ],
   "source": [
    "mock_int_data.columns"
   ]
  },
  {
   "cell_type": "code",
   "execution_count": 287,
   "metadata": {},
   "outputs": [],
   "source": [
    "mock_df[['hour_of_day', 'transaction_type', 'location_region', 'login_frequency',\n",
    "       'session_duration', 'purchase_pattern', 'age_group', 'anomaly']] = mock_df[['hour_of_day', 'transaction_type', 'location_region', 'login_frequency',\n",
    "       'session_duration', 'purchase_pattern', 'age_group', 'anomaly']].round().astype('Int64')"
   ]
  },
  {
   "cell_type": "code",
   "execution_count": 288,
   "metadata": {},
   "outputs": [
    {
     "data": {
      "text/html": [
       "<div>\n",
       "<style scoped>\n",
       "    .dataframe tbody tr th:only-of-type {\n",
       "        vertical-align: middle;\n",
       "    }\n",
       "\n",
       "    .dataframe tbody tr th {\n",
       "        vertical-align: top;\n",
       "    }\n",
       "\n",
       "    .dataframe thead th {\n",
       "        text-align: right;\n",
       "    }\n",
       "</style>\n",
       "<table border=\"1\" class=\"dataframe\">\n",
       "  <thead>\n",
       "    <tr style=\"text-align: right;\">\n",
       "      <th></th>\n",
       "      <th>hour_of_day</th>\n",
       "      <th>amount</th>\n",
       "      <th>transaction_type</th>\n",
       "      <th>location_region</th>\n",
       "      <th>login_frequency</th>\n",
       "      <th>session_duration</th>\n",
       "      <th>purchase_pattern</th>\n",
       "      <th>age_group</th>\n",
       "      <th>risk_score</th>\n",
       "      <th>anomaly</th>\n",
       "    </tr>\n",
       "  </thead>\n",
       "  <tbody>\n",
       "    <tr>\n",
       "      <th>0</th>\n",
       "      <td>10</td>\n",
       "      <td>722.257564</td>\n",
       "      <td>2</td>\n",
       "      <td>2</td>\n",
       "      <td>4</td>\n",
       "      <td>93</td>\n",
       "      <td>1</td>\n",
       "      <td>1</td>\n",
       "      <td>61.518281</td>\n",
       "      <td>1</td>\n",
       "    </tr>\n",
       "    <tr>\n",
       "      <th>1</th>\n",
       "      <td>3</td>\n",
       "      <td>625.361492</td>\n",
       "      <td>0</td>\n",
       "      <td>2</td>\n",
       "      <td>5</td>\n",
       "      <td>83</td>\n",
       "      <td>1</td>\n",
       "      <td>1</td>\n",
       "      <td>57.059044</td>\n",
       "      <td>0</td>\n",
       "    </tr>\n",
       "    <tr>\n",
       "      <th>2</th>\n",
       "      <td>7</td>\n",
       "      <td>73.172636</td>\n",
       "      <td>1</td>\n",
       "      <td>0</td>\n",
       "      <td>8</td>\n",
       "      <td>152</td>\n",
       "      <td>0</td>\n",
       "      <td>0</td>\n",
       "      <td>37.441038</td>\n",
       "      <td>0</td>\n",
       "    </tr>\n",
       "    <tr>\n",
       "      <th>3</th>\n",
       "      <td>9</td>\n",
       "      <td>583.277279</td>\n",
       "      <td>0</td>\n",
       "      <td>2</td>\n",
       "      <td>6</td>\n",
       "      <td>73</td>\n",
       "      <td>0</td>\n",
       "      <td>0</td>\n",
       "      <td>18.625218</td>\n",
       "      <td>0</td>\n",
       "    </tr>\n",
       "    <tr>\n",
       "      <th>4</th>\n",
       "      <td>21</td>\n",
       "      <td>836.475522</td>\n",
       "      <td>2</td>\n",
       "      <td>4</td>\n",
       "      <td>5</td>\n",
       "      <td>52</td>\n",
       "      <td>1</td>\n",
       "      <td>1</td>\n",
       "      <td>68.533569</td>\n",
       "      <td>1</td>\n",
       "    </tr>\n",
       "    <tr>\n",
       "      <th>...</th>\n",
       "      <td>...</td>\n",
       "      <td>...</td>\n",
       "      <td>...</td>\n",
       "      <td>...</td>\n",
       "      <td>...</td>\n",
       "      <td>...</td>\n",
       "      <td>...</td>\n",
       "      <td>...</td>\n",
       "      <td>...</td>\n",
       "      <td>...</td>\n",
       "    </tr>\n",
       "    <tr>\n",
       "      <th>4995</th>\n",
       "      <td>0</td>\n",
       "      <td>691.220902</td>\n",
       "      <td>0</td>\n",
       "      <td>3</td>\n",
       "      <td>2</td>\n",
       "      <td>35</td>\n",
       "      <td>1</td>\n",
       "      <td>1</td>\n",
       "      <td>18.906175</td>\n",
       "      <td>0</td>\n",
       "    </tr>\n",
       "    <tr>\n",
       "      <th>4996</th>\n",
       "      <td>4</td>\n",
       "      <td>241.256036</td>\n",
       "      <td>3</td>\n",
       "      <td>3</td>\n",
       "      <td>5</td>\n",
       "      <td>51</td>\n",
       "      <td>1</td>\n",
       "      <td>1</td>\n",
       "      <td>50.868466</td>\n",
       "      <td>0</td>\n",
       "    </tr>\n",
       "    <tr>\n",
       "      <th>4997</th>\n",
       "      <td>0</td>\n",
       "      <td>306.011301</td>\n",
       "      <td>0</td>\n",
       "      <td>2</td>\n",
       "      <td>5</td>\n",
       "      <td>59</td>\n",
       "      <td>1</td>\n",
       "      <td>1</td>\n",
       "      <td>40.432645</td>\n",
       "      <td>0</td>\n",
       "    </tr>\n",
       "    <tr>\n",
       "      <th>4998</th>\n",
       "      <td>10</td>\n",
       "      <td>459.579341</td>\n",
       "      <td>1</td>\n",
       "      <td>3</td>\n",
       "      <td>5</td>\n",
       "      <td>98</td>\n",
       "      <td>1</td>\n",
       "      <td>1</td>\n",
       "      <td>44.150659</td>\n",
       "      <td>0</td>\n",
       "    </tr>\n",
       "    <tr>\n",
       "      <th>4999</th>\n",
       "      <td>0</td>\n",
       "      <td>215.890815</td>\n",
       "      <td>1</td>\n",
       "      <td>2</td>\n",
       "      <td>5</td>\n",
       "      <td>116</td>\n",
       "      <td>1</td>\n",
       "      <td>1</td>\n",
       "      <td>61.926612</td>\n",
       "      <td>0</td>\n",
       "    </tr>\n",
       "  </tbody>\n",
       "</table>\n",
       "<p>5000 rows × 10 columns</p>\n",
       "</div>"
      ],
      "text/plain": [
       "      hour_of_day      amount  transaction_type  location_region  \\\n",
       "0              10  722.257564                 2                2   \n",
       "1               3  625.361492                 0                2   \n",
       "2               7   73.172636                 1                0   \n",
       "3               9  583.277279                 0                2   \n",
       "4              21  836.475522                 2                4   \n",
       "...           ...         ...               ...              ...   \n",
       "4995            0  691.220902                 0                3   \n",
       "4996            4  241.256036                 3                3   \n",
       "4997            0  306.011301                 0                2   \n",
       "4998           10  459.579341                 1                3   \n",
       "4999            0  215.890815                 1                2   \n",
       "\n",
       "      login_frequency  session_duration  purchase_pattern  age_group  \\\n",
       "0                   4                93                 1          1   \n",
       "1                   5                83                 1          1   \n",
       "2                   8               152                 0          0   \n",
       "3                   6                73                 0          0   \n",
       "4                   5                52                 1          1   \n",
       "...               ...               ...               ...        ...   \n",
       "4995                2                35                 1          1   \n",
       "4996                5                51                 1          1   \n",
       "4997                5                59                 1          1   \n",
       "4998                5                98                 1          1   \n",
       "4999                5               116                 1          1   \n",
       "\n",
       "      risk_score  anomaly  \n",
       "0      61.518281        1  \n",
       "1      57.059044        0  \n",
       "2      37.441038        0  \n",
       "3      18.625218        0  \n",
       "4      68.533569        1  \n",
       "...          ...      ...  \n",
       "4995   18.906175        0  \n",
       "4996   50.868466        0  \n",
       "4997   40.432645        0  \n",
       "4998   44.150659        0  \n",
       "4999   61.926612        0  \n",
       "\n",
       "[5000 rows x 10 columns]"
      ]
     },
     "execution_count": 288,
     "metadata": {},
     "output_type": "execute_result"
    }
   ],
   "source": [
    "mock_df"
   ]
  },
  {
   "cell_type": "code",
   "execution_count": 300,
   "metadata": {},
   "outputs": [
    {
     "name": "stdout",
     "output_type": "stream",
     "text": [
      "<class 'pandas.core.frame.DataFrame'>\n",
      "RangeIndex: 5000 entries, 0 to 4999\n",
      "Data columns (total 10 columns):\n",
      " #   Column            Non-Null Count  Dtype  \n",
      "---  ------            --------------  -----  \n",
      " 0   hour_of_day       5000 non-null   Int64  \n",
      " 1   amount            5000 non-null   float64\n",
      " 2   transaction_type  5000 non-null   Int64  \n",
      " 3   location_region   5000 non-null   Int64  \n",
      " 4   login_frequency   5000 non-null   Int64  \n",
      " 5   session_duration  5000 non-null   Int64  \n",
      " 6   purchase_pattern  5000 non-null   Int64  \n",
      " 7   age_group         5000 non-null   Int64  \n",
      " 8   risk_score        5000 non-null   float64\n",
      " 9   anomaly           5000 non-null   Int64  \n",
      "dtypes: Int64(8), float64(2)\n",
      "memory usage: 429.8 KB\n"
     ]
    }
   ],
   "source": [
    "mock_df.info()"
   ]
  },
  {
   "cell_type": "code",
   "execution_count": 301,
   "metadata": {},
   "outputs": [
    {
     "data": {
      "text/html": [
       "<div>\n",
       "<style scoped>\n",
       "    .dataframe tbody tr th:only-of-type {\n",
       "        vertical-align: middle;\n",
       "    }\n",
       "\n",
       "    .dataframe tbody tr th {\n",
       "        vertical-align: top;\n",
       "    }\n",
       "\n",
       "    .dataframe thead th {\n",
       "        text-align: right;\n",
       "    }\n",
       "</style>\n",
       "<table border=\"1\" class=\"dataframe\">\n",
       "  <thead>\n",
       "    <tr style=\"text-align: right;\">\n",
       "      <th></th>\n",
       "      <th>hour_of_day</th>\n",
       "      <th>amount</th>\n",
       "      <th>transaction_type</th>\n",
       "      <th>location_region</th>\n",
       "      <th>login_frequency</th>\n",
       "      <th>session_duration</th>\n",
       "      <th>purchase_pattern</th>\n",
       "      <th>age_group</th>\n",
       "      <th>risk_score</th>\n",
       "      <th>anomaly</th>\n",
       "    </tr>\n",
       "  </thead>\n",
       "  <tbody>\n",
       "    <tr>\n",
       "      <th>count</th>\n",
       "      <td>5000.0</td>\n",
       "      <td>5000.000000</td>\n",
       "      <td>5000.0</td>\n",
       "      <td>5000.0</td>\n",
       "      <td>5000.0</td>\n",
       "      <td>5000.0</td>\n",
       "      <td>5000.0</td>\n",
       "      <td>5000.0</td>\n",
       "      <td>5000.000000</td>\n",
       "      <td>5000.0</td>\n",
       "    </tr>\n",
       "    <tr>\n",
       "      <th>mean</th>\n",
       "      <td>11.558</td>\n",
       "      <td>493.214171</td>\n",
       "      <td>1.267</td>\n",
       "      <td>2.0308</td>\n",
       "      <td>4.27</td>\n",
       "      <td>72.2972</td>\n",
       "      <td>0.981</td>\n",
       "      <td>0.981</td>\n",
       "      <td>45.268986</td>\n",
       "      <td>0.3746</td>\n",
       "    </tr>\n",
       "    <tr>\n",
       "      <th>std</th>\n",
       "      <td>6.374038</td>\n",
       "      <td>243.191892</td>\n",
       "      <td>0.963482</td>\n",
       "      <td>1.255295</td>\n",
       "      <td>2.095896</td>\n",
       "      <td>36.324619</td>\n",
       "      <td>0.729072</td>\n",
       "      <td>0.729072</td>\n",
       "      <td>20.085169</td>\n",
       "      <td>0.529463</td>\n",
       "    </tr>\n",
       "    <tr>\n",
       "      <th>min</th>\n",
       "      <td>0.0</td>\n",
       "      <td>0.010000</td>\n",
       "      <td>0.0</td>\n",
       "      <td>0.0</td>\n",
       "      <td>1.0</td>\n",
       "      <td>20.0</td>\n",
       "      <td>0.0</td>\n",
       "      <td>0.0</td>\n",
       "      <td>15.000000</td>\n",
       "      <td>0.0</td>\n",
       "    </tr>\n",
       "    <tr>\n",
       "      <th>25%</th>\n",
       "      <td>7.0</td>\n",
       "      <td>326.429037</td>\n",
       "      <td>1.0</td>\n",
       "      <td>1.0</td>\n",
       "      <td>3.0</td>\n",
       "      <td>43.0</td>\n",
       "      <td>0.0</td>\n",
       "      <td>0.0</td>\n",
       "      <td>29.633625</td>\n",
       "      <td>0.0</td>\n",
       "    </tr>\n",
       "    <tr>\n",
       "      <th>50%</th>\n",
       "      <td>12.0</td>\n",
       "      <td>489.350287</td>\n",
       "      <td>1.0</td>\n",
       "      <td>2.0</td>\n",
       "      <td>4.0</td>\n",
       "      <td>70.0</td>\n",
       "      <td>1.0</td>\n",
       "      <td>1.0</td>\n",
       "      <td>44.361926</td>\n",
       "      <td>0.0</td>\n",
       "    </tr>\n",
       "    <tr>\n",
       "      <th>75%</th>\n",
       "      <td>16.0</td>\n",
       "      <td>659.116991</td>\n",
       "      <td>2.0</td>\n",
       "      <td>3.0</td>\n",
       "      <td>6.0</td>\n",
       "      <td>98.0</td>\n",
       "      <td>2.0</td>\n",
       "      <td>2.0</td>\n",
       "      <td>59.425149</td>\n",
       "      <td>1.0</td>\n",
       "    </tr>\n",
       "    <tr>\n",
       "      <th>max</th>\n",
       "      <td>23.0</td>\n",
       "      <td>1418.231387</td>\n",
       "      <td>4.0</td>\n",
       "      <td>4.0</td>\n",
       "      <td>8.0</td>\n",
       "      <td>159.0</td>\n",
       "      <td>2.0</td>\n",
       "      <td>2.0</td>\n",
       "      <td>100.000000</td>\n",
       "      <td>2.0</td>\n",
       "    </tr>\n",
       "  </tbody>\n",
       "</table>\n",
       "</div>"
      ],
      "text/plain": [
       "       hour_of_day       amount  transaction_type  location_region  \\\n",
       "count       5000.0  5000.000000            5000.0           5000.0   \n",
       "mean        11.558   493.214171             1.267           2.0308   \n",
       "std       6.374038   243.191892          0.963482         1.255295   \n",
       "min            0.0     0.010000               0.0              0.0   \n",
       "25%            7.0   326.429037               1.0              1.0   \n",
       "50%           12.0   489.350287               1.0              2.0   \n",
       "75%           16.0   659.116991               2.0              3.0   \n",
       "max           23.0  1418.231387               4.0              4.0   \n",
       "\n",
       "       login_frequency  session_duration  purchase_pattern  age_group  \\\n",
       "count           5000.0            5000.0            5000.0     5000.0   \n",
       "mean              4.27           72.2972             0.981      0.981   \n",
       "std           2.095896         36.324619          0.729072   0.729072   \n",
       "min                1.0              20.0               0.0        0.0   \n",
       "25%                3.0              43.0               0.0        0.0   \n",
       "50%                4.0              70.0               1.0        1.0   \n",
       "75%                6.0              98.0               2.0        2.0   \n",
       "max                8.0             159.0               2.0        2.0   \n",
       "\n",
       "        risk_score   anomaly  \n",
       "count  5000.000000    5000.0  \n",
       "mean     45.268986    0.3746  \n",
       "std      20.085169  0.529463  \n",
       "min      15.000000       0.0  \n",
       "25%      29.633625       0.0  \n",
       "50%      44.361926       0.0  \n",
       "75%      59.425149       1.0  \n",
       "max     100.000000       2.0  "
      ]
     },
     "execution_count": 301,
     "metadata": {},
     "output_type": "execute_result"
    }
   ],
   "source": [
    "mock_df.describe()"
   ]
  },
  {
   "cell_type": "code",
   "execution_count": 289,
   "metadata": {},
   "outputs": [],
   "source": [
    "mock_X = mock_df[['hour_of_day', 'amount', 'login_frequency', 'session_duration', 'risk_score','transaction_type', 'location_region', 'purchase_pattern', 'age_group']]\n",
    "mock_y = mock_df[['anomaly']]"
   ]
  },
  {
   "cell_type": "code",
   "execution_count": 290,
   "metadata": {},
   "outputs": [
    {
     "name": "stderr",
     "output_type": "stream",
     "text": [
      "C:\\Users\\fsukr\\AppData\\Local\\Temp\\ipykernel_19476\\3753930500.py:2: SettingWithCopyWarning: \n",
      "A value is trying to be set on a copy of a slice from a DataFrame.\n",
      "Try using .loc[row_indexer,col_indexer] = value instead\n",
      "\n",
      "See the caveats in the documentation: https://pandas.pydata.org/pandas-docs/stable/user_guide/indexing.html#returning-a-view-versus-a-copy\n",
      "  mock_X[numeric_columns] = scaler.fit_transform(mock_X[numeric_columns])\n"
     ]
    }
   ],
   "source": [
    "scaler = MinMaxScaler()\n",
    "mock_X[numeric_columns] = scaler.fit_transform(mock_X[numeric_columns])"
   ]
  },
  {
   "cell_type": "code",
   "execution_count": 291,
   "metadata": {},
   "outputs": [
    {
     "data": {
      "text/html": [
       "<div>\n",
       "<style scoped>\n",
       "    .dataframe tbody tr th:only-of-type {\n",
       "        vertical-align: middle;\n",
       "    }\n",
       "\n",
       "    .dataframe tbody tr th {\n",
       "        vertical-align: top;\n",
       "    }\n",
       "\n",
       "    .dataframe thead th {\n",
       "        text-align: right;\n",
       "    }\n",
       "</style>\n",
       "<table border=\"1\" class=\"dataframe\">\n",
       "  <thead>\n",
       "    <tr style=\"text-align: right;\">\n",
       "      <th></th>\n",
       "      <th>hour_of_day</th>\n",
       "      <th>amount</th>\n",
       "      <th>login_frequency</th>\n",
       "      <th>session_duration</th>\n",
       "      <th>risk_score</th>\n",
       "      <th>transaction_type</th>\n",
       "      <th>location_region</th>\n",
       "      <th>purchase_pattern</th>\n",
       "      <th>age_group</th>\n",
       "    </tr>\n",
       "  </thead>\n",
       "  <tbody>\n",
       "    <tr>\n",
       "      <th>count</th>\n",
       "      <td>5000.000000</td>\n",
       "      <td>5000.000000</td>\n",
       "      <td>5000.000000</td>\n",
       "      <td>5000.000000</td>\n",
       "      <td>5000.000000</td>\n",
       "      <td>5000.0</td>\n",
       "      <td>5000.0</td>\n",
       "      <td>5000.0</td>\n",
       "      <td>5000.0</td>\n",
       "    </tr>\n",
       "    <tr>\n",
       "      <th>mean</th>\n",
       "      <td>0.502522</td>\n",
       "      <td>0.347762</td>\n",
       "      <td>0.467143</td>\n",
       "      <td>0.376239</td>\n",
       "      <td>0.356106</td>\n",
       "      <td>1.267</td>\n",
       "      <td>2.0308</td>\n",
       "      <td>0.981</td>\n",
       "      <td>0.981</td>\n",
       "    </tr>\n",
       "    <tr>\n",
       "      <th>std</th>\n",
       "      <td>0.277132</td>\n",
       "      <td>0.171477</td>\n",
       "      <td>0.299414</td>\n",
       "      <td>0.261328</td>\n",
       "      <td>0.236296</td>\n",
       "      <td>0.963482</td>\n",
       "      <td>1.255295</td>\n",
       "      <td>0.729072</td>\n",
       "      <td>0.729072</td>\n",
       "    </tr>\n",
       "    <tr>\n",
       "      <th>min</th>\n",
       "      <td>0.000000</td>\n",
       "      <td>0.000000</td>\n",
       "      <td>0.000000</td>\n",
       "      <td>0.000000</td>\n",
       "      <td>0.000000</td>\n",
       "      <td>0.0</td>\n",
       "      <td>0.0</td>\n",
       "      <td>0.0</td>\n",
       "      <td>0.0</td>\n",
       "    </tr>\n",
       "    <tr>\n",
       "      <th>25%</th>\n",
       "      <td>0.304348</td>\n",
       "      <td>0.230161</td>\n",
       "      <td>0.285714</td>\n",
       "      <td>0.165468</td>\n",
       "      <td>0.172160</td>\n",
       "      <td>1.0</td>\n",
       "      <td>1.0</td>\n",
       "      <td>0.0</td>\n",
       "      <td>0.0</td>\n",
       "    </tr>\n",
       "    <tr>\n",
       "      <th>50%</th>\n",
       "      <td>0.521739</td>\n",
       "      <td>0.345038</td>\n",
       "      <td>0.428571</td>\n",
       "      <td>0.359712</td>\n",
       "      <td>0.345434</td>\n",
       "      <td>1.0</td>\n",
       "      <td>2.0</td>\n",
       "      <td>1.0</td>\n",
       "      <td>1.0</td>\n",
       "    </tr>\n",
       "    <tr>\n",
       "      <th>75%</th>\n",
       "      <td>0.695652</td>\n",
       "      <td>0.464742</td>\n",
       "      <td>0.714286</td>\n",
       "      <td>0.561151</td>\n",
       "      <td>0.522649</td>\n",
       "      <td>2.0</td>\n",
       "      <td>3.0</td>\n",
       "      <td>2.0</td>\n",
       "      <td>2.0</td>\n",
       "    </tr>\n",
       "    <tr>\n",
       "      <th>max</th>\n",
       "      <td>1.000000</td>\n",
       "      <td>1.000000</td>\n",
       "      <td>1.000000</td>\n",
       "      <td>1.000000</td>\n",
       "      <td>1.000000</td>\n",
       "      <td>4.0</td>\n",
       "      <td>4.0</td>\n",
       "      <td>2.0</td>\n",
       "      <td>2.0</td>\n",
       "    </tr>\n",
       "  </tbody>\n",
       "</table>\n",
       "</div>"
      ],
      "text/plain": [
       "       hour_of_day       amount  login_frequency  session_duration  \\\n",
       "count  5000.000000  5000.000000      5000.000000       5000.000000   \n",
       "mean      0.502522     0.347762         0.467143          0.376239   \n",
       "std       0.277132     0.171477         0.299414          0.261328   \n",
       "min       0.000000     0.000000         0.000000          0.000000   \n",
       "25%       0.304348     0.230161         0.285714          0.165468   \n",
       "50%       0.521739     0.345038         0.428571          0.359712   \n",
       "75%       0.695652     0.464742         0.714286          0.561151   \n",
       "max       1.000000     1.000000         1.000000          1.000000   \n",
       "\n",
       "        risk_score  transaction_type  location_region  purchase_pattern  \\\n",
       "count  5000.000000            5000.0           5000.0            5000.0   \n",
       "mean      0.356106             1.267           2.0308             0.981   \n",
       "std       0.236296          0.963482         1.255295          0.729072   \n",
       "min       0.000000               0.0              0.0               0.0   \n",
       "25%       0.172160               1.0              1.0               0.0   \n",
       "50%       0.345434               1.0              2.0               1.0   \n",
       "75%       0.522649               2.0              3.0               2.0   \n",
       "max       1.000000               4.0              4.0               2.0   \n",
       "\n",
       "       age_group  \n",
       "count     5000.0  \n",
       "mean       0.981  \n",
       "std     0.729072  \n",
       "min          0.0  \n",
       "25%          0.0  \n",
       "50%          1.0  \n",
       "75%          2.0  \n",
       "max          2.0  "
      ]
     },
     "execution_count": 291,
     "metadata": {},
     "output_type": "execute_result"
    }
   ],
   "source": [
    "mock_X.describe()"
   ]
  },
  {
   "cell_type": "markdown",
   "metadata": {},
   "source": [
    "## Test model on mock up data\n"
   ]
  },
  {
   "cell_type": "code",
   "execution_count": 292,
   "metadata": {},
   "outputs": [],
   "source": [
    "# KNN\n",
    "mock_y_pred = knn.predict(mock_X)"
   ]
  },
  {
   "cell_type": "code",
   "execution_count": 293,
   "metadata": {},
   "outputs": [
    {
     "data": {
      "image/png": "[encoded data removed]",
      "text/plain": [
       "<Figure size 800x600 with 1 Axes>"
      ]
     },
     "metadata": {},
     "output_type": "display_data"
    },
    {
     "name": "stdout",
     "output_type": "stream",
     "text": [
      "              precision    recall  f1-score   support\n",
      "\n",
      "         0.0       0.74      0.96      0.84      3242\n",
      "         1.0       0.69      0.17      0.27      1643\n",
      "         2.0       0.17      0.57      0.26       115\n",
      "\n",
      "    accuracy                           0.69      5000\n",
      "   macro avg       0.53      0.57      0.46      5000\n",
      "weighted avg       0.71      0.69      0.64      5000\n",
      "\n"
     ]
    }
   ],
   "source": [
    "cm = confusion_matrix(mock_y, mock_y_pred)\n",
    "plt.figure(figsize=(8, 6))\n",
    "sns.heatmap(cm, annot=True, fmt='d', cmap='Blues', cbar=False)\n",
    "plt.xlabel('Predicted labels')\n",
    "plt.ylabel('True labels')\n",
    "plt.title('Confusion Matrix')\n",
    "plt.show()\n",
    "\n",
    "classification_knn = (classification_report(mock_y, mock_y_pred))\n",
    "print(classification_knn)"
   ]
  },
  {
   "cell_type": "code",
   "execution_count": 294,
   "metadata": {},
   "outputs": [],
   "source": [
    "# Decision tree\n",
    "mock_y_pred_dt = decision_tree.predict(mock_X)"
   ]
  },
  {
   "cell_type": "code",
   "execution_count": 295,
   "metadata": {},
   "outputs": [
    {
     "data": {
      "image/png": "[encoded data removed]",
      "text/plain": [
       "<Figure size 800x600 with 1 Axes>"
      ]
     },
     "metadata": {},
     "output_type": "display_data"
    },
    {
     "name": "stdout",
     "output_type": "stream",
     "text": [
      "              precision    recall  f1-score   support\n",
      "\n",
      "         0.0       0.81      0.96      0.88      3242\n",
      "         1.0       0.81      0.35      0.49      1643\n",
      "         2.0       0.19      0.74      0.30       115\n",
      "\n",
      "    accuracy                           0.75      5000\n",
      "   macro avg       0.60      0.68      0.56      5000\n",
      "weighted avg       0.79      0.75      0.74      5000\n",
      "\n"
     ]
    }
   ],
   "source": [
    "cm = confusion_matrix(mock_y, mock_y_pred_dt)\n",
    "plt.figure(figsize=(8, 6))\n",
    "sns.heatmap(cm, annot=True, fmt='d', cmap='Blues', cbar=False)\n",
    "plt.xlabel('Predicted labels')\n",
    "plt.ylabel('True labels')\n",
    "plt.title('Confusion Matrix')\n",
    "plt.show()\n",
    "\n",
    "classification_dt = (classification_report(mock_y, mock_y_pred_dt))\n",
    "print(classification_dt)"
   ]
  },
  {
   "cell_type": "code",
   "execution_count": 296,
   "metadata": {},
   "outputs": [],
   "source": [
    "# Random forest\n",
    "mock_y_pred_rf = rf_classifier.predict(mock_X)"
   ]
  },
  {
   "cell_type": "code",
   "execution_count": 297,
   "metadata": {},
   "outputs": [
    {
     "data": {
      "image/png": "[encoded data removed]",
      "text/plain": [
       "<Figure size 800x600 with 1 Axes>"
      ]
     },
     "metadata": {},
     "output_type": "display_data"
    },
    {
     "name": "stdout",
     "output_type": "stream",
     "text": [
      "              precision    recall  f1-score   support\n",
      "\n",
      "         0.0       0.80      0.96      0.87      3242\n",
      "         1.0       0.80      0.41      0.54      1643\n",
      "         2.0       0.24      0.55      0.34       115\n",
      "\n",
      "    accuracy                           0.77      5000\n",
      "   macro avg       0.61      0.64      0.58      5000\n",
      "weighted avg       0.79      0.77      0.75      5000\n",
      "\n"
     ]
    }
   ],
   "source": [
    "cm = confusion_matrix(mock_y, mock_y_pred_rf)\n",
    "plt.figure(figsize=(8, 6))\n",
    "sns.heatmap(cm, annot=True, fmt='d', cmap='Blues', cbar=False)\n",
    "plt.xlabel('Predicted labels')\n",
    "plt.ylabel('True labels')\n",
    "plt.title('Confusion Matrix')\n",
    "plt.show()\n",
    "\n",
    "classification_rf = (classification_report(mock_y, mock_y_pred_rf))\n",
    "print(classification_rf)"
   ]
  },
  {
   "cell_type": "code",
   "execution_count": 298,
   "metadata": {},
   "outputs": [],
   "source": [
    "# Naive bayes\n",
    "mock_y_pred_nb = nb_classifier.predict(mock_X)"
   ]
  },
  {
   "cell_type": "code",
   "execution_count": 299,
   "metadata": {},
   "outputs": [
    {
     "data": {
      "image/png": "[encoded data removed]",
      "text/plain": [
       "<Figure size 800x600 with 1 Axes>"
      ]
     },
     "metadata": {},
     "output_type": "display_data"
    },
    {
     "name": "stdout",
     "output_type": "stream",
     "text": [
      "              precision    recall  f1-score   support\n",
      "\n",
      "         0.0       0.73      0.93      0.82      3242\n",
      "         1.0       0.61      0.22      0.32      1643\n",
      "         2.0       0.10      0.27      0.15       115\n",
      "\n",
      "    accuracy                           0.68      5000\n",
      "   macro avg       0.48      0.47      0.43      5000\n",
      "weighted avg       0.68      0.68      0.64      5000\n",
      "\n"
     ]
    }
   ],
   "source": [
    "cm = confusion_matrix(mock_y, mock_y_pred_nb)\n",
    "plt.figure(figsize=(8, 6))\n",
    "sns.heatmap(cm, annot=True, fmt='d', cmap='Blues', cbar=False)\n",
    "plt.xlabel('Predicted labels')\n",
    "plt.ylabel('True labels')\n",
    "plt.title('Confusion Matrix')\n",
    "plt.show()\n",
    "\n",
    "classification_nb = (classification_report(mock_y, mock_y_pred_nb))\n",
    "print(classification_nb)"
   ]
  },
  {
   "cell_type": "code",
   "execution_count": 304,
   "metadata": {},
   "outputs": [],
   "source": [
    "#Logistic Regression\n",
    "mock_y_pred_lr = log_reg.predict(mock_X)"
   ]
  },
  {
   "cell_type": "code",
   "execution_count": 305,
   "metadata": {},
   "outputs": [
    {
     "data": {
      "image/png": "[encoded data removed]",
      "text/plain": [
       "<Figure size 800x600 with 1 Axes>"
      ]
     },
     "metadata": {},
     "output_type": "display_data"
    },
    {
     "name": "stdout",
     "output_type": "stream",
     "text": [
      "              precision    recall  f1-score   support\n",
      "\n",
      "         0.0       0.80      0.95      0.87      3242\n",
      "         1.0       0.79      0.32      0.45      1643\n",
      "         2.0       0.16      0.74      0.27       115\n",
      "\n",
      "    accuracy                           0.73      5000\n",
      "   macro avg       0.58      0.67      0.53      5000\n",
      "weighted avg       0.78      0.73      0.72      5000\n",
      "\n"
     ]
    }
   ],
   "source": [
    "cm = confusion_matrix(mock_y, mock_y_pred_lr)\n",
    "plt.figure(figsize=(8, 6))\n",
    "sns.heatmap(cm, annot=True, fmt='d', cmap='Blues', cbar=False)\n",
    "plt.xlabel('Predicted labels')\n",
    "plt.ylabel('True labels')\n",
    "plt.title('Confusion Matrix')\n",
    "plt.show()\n",
    "\n",
    "classification_lr = (classification_report(mock_y, mock_y_pred_lr))\n",
    "print(classification_lr)"
   ]
  },
  {
   "cell_type": "code",
   "execution_count": 306,
   "metadata": {},
   "outputs": [
    {
     "name": "stdout",
     "output_type": "stream",
     "text": [
      "           k-NN Classifier  Decision Tree Classifier  \\\n",
      "Accuracy          0.691800                  0.754000   \n",
      "Precision         0.531423                  0.601783   \n",
      "Recall            0.565385                  0.683195   \n",
      "F1-score          0.455836                  0.556746   \n",
      "\n",
      "           Random Forest Classifier  Naive bayes Classifier  \\\n",
      "Accuracy                   0.770000                0.677800   \n",
      "Precision                  0.614479                0.481360   \n",
      "Recall                     0.638920                0.470738   \n",
      "F1-score                   0.583348                0.427989   \n",
      "\n",
      "           Logistic Regression  \n",
      "Accuracy              0.677800  \n",
      "Precision             0.481360  \n",
      "Recall                0.470738  \n",
      "F1-score              0.427989  \n"
     ]
    }
   ],
   "source": [
    "# Calculate evaluation metrics for KNN classifier\n",
    "mock_accuracy_knn = accuracy_score(mock_y, mock_y_pred)\n",
    "mock_precision_knn = precision_score(mock_y, mock_y_pred, average='macro')\n",
    "mock_recall_knn = recall_score(mock_y, mock_y_pred, average='macro')\n",
    "mock_f1_knn = f1_score(mock_y, mock_y_pred, average='macro')\n",
    "\n",
    "# Calculate evaluation metrics for Decision Tree classifier\n",
    "mock_accuracy_dt = accuracy_score(mock_y, mock_y_pred_dt)\n",
    "mock_precision_dt = precision_score(mock_y, mock_y_pred_dt, average='macro')\n",
    "mock_recall_dt = recall_score(mock_y, mock_y_pred_dt, average='macro')\n",
    "mock_f1_dt = f1_score(mock_y, mock_y_pred_dt, average='macro')\n",
    "\n",
    "# Calculate evaluation metrics for Random Forest classifier\n",
    "mock_accuracy_rf = accuracy_score(mock_y, mock_y_pred_rf)\n",
    "mock_precision_rf = precision_score(mock_y, mock_y_pred_rf, average='macro')\n",
    "mock_recall_rf = recall_score(mock_y, mock_y_pred_rf, average='macro')\n",
    "mock_f1_rf = f1_score(mock_y, mock_y_pred_rf, average='macro')\n",
    "\n",
    "# Calculate evaluation metrics for Naive Bayes classifier\n",
    "mock_accuracy_nb = accuracy_score(mock_y, mock_y_pred_nb)\n",
    "mock_precision_nb = precision_score(mock_y, mock_y_pred_nb, average='macro')\n",
    "mock_recall_nb = recall_score(mock_y, mock_y_pred_nb, average='macro')\n",
    "mock_f1_nb = f1_score(mock_y, mock_y_pred_nb, average='macro')\n",
    "\n",
    "# Calculate evaluation metrics for Logistic Regression\n",
    "mock_accuracy_lr = accuracy_score(mock_y, mock_y_pred_nb)\n",
    "mock_precision_lr = precision_score(mock_y, mock_y_pred_nb, average='macro')\n",
    "mock_recall_lr = recall_score(mock_y, mock_y_pred_nb, average='macro')\n",
    "mock_f1_lr = f1_score(mock_y, mock_y_pred_nb, average='macro')\n",
    "\n",
    "resume = pd.DataFrame({\n",
    "    'k-NN Classifier': [mock_accuracy_knn, mock_precision_knn, mock_recall_knn, mock_f1_knn],\n",
    "    'Decision Tree Classifier': [mock_accuracy_dt, mock_precision_dt, mock_recall_dt, mock_f1_dt],\n",
    "    'Random Forest Classifier': [mock_accuracy_rf, mock_precision_rf, mock_recall_rf, mock_f1_rf],\n",
    "    'Naive bayes Classifier': [mock_accuracy_nb, mock_precision_nb, mock_recall_nb, mock_f1_nb],\n",
    "    'Logistic Regression': [mock_accuracy_lr, mock_precision_lr, mock_recall_lr, mock_f1_lr],\n",
    "}, index=['Accuracy', 'Precision', 'Recall', 'F1-score'])\n",
    "\n",
    "print(resume)"
   ]
  }
 ],
 "metadata": {
  "kernelspec": {
   "display_name": "base",
   "language": "python",
   "name": "python3"
  },
  "language_info": {
   "codemirror_mode": {
    "name": "ipython",
    "version": 3
   },
   "file_extension": ".py",
   "mimetype": "text/x-python",
   "name": "python",
   "nbconvert_exporter": "python",
   "pygments_lexer": "ipython3",
   "version": "3.11.7"
  }
 },
 "nbformat": 4,
 "nbformat_minor": 2
}
